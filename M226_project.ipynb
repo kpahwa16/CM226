{
  "nbformat": 4,
  "nbformat_minor": 0,
  "metadata": {
    "accelerator": "TPU",
    "colab": {
      "name": "M226 project.ipynb",
      "provenance": [],
      "collapsed_sections": [],
      "include_colab_link": true
    },
    "kernelspec": {
      "display_name": "Python 3",
      "name": "python3"
    },
    "language_info": {
      "name": "python"
    }
  },
  "cells": [
    {
      "cell_type": "markdown",
      "metadata": {
        "id": "view-in-github",
        "colab_type": "text"
      },
      "source": [
        "<a href=\"https://colab.research.google.com/github/kpahwa16/CM226/blob/main/M226_project.ipynb\" target=\"_parent\"><img src=\"https://colab.research.google.com/assets/colab-badge.svg\" alt=\"Open In Colab\"/></a>"
      ]
    },
    {
      "cell_type": "markdown",
      "metadata": {
        "id": "_mbW7yVeOJ8e"
      },
      "source": [
        "# **Downlaod the required data files from the link below** "
      ]
    },
    {
      "cell_type": "code",
      "metadata": {
        "id": "RJdJxSnMXUel"
      },
      "source": [
        "!wget https://drive.google.com/drive/folders/1_VbrlER6wVKhqlDwv8w9BN6LYS6etQfk?usp=sharing\n",
        "\n",
        "\n"
      ],
      "execution_count": null,
      "outputs": []
    },
    {
      "cell_type": "markdown",
      "metadata": {
        "id": "GcSMzAbeOf_W"
      },
      "source": [
        "# **Using the popular  plink open source tool for large scale genome wide studies : https://zzz.bwh.harvard.edu/plink/**"
      ]
    },
    {
      "cell_type": "code",
      "metadata": {
        "colab": {
          "base_uri": "https://localhost:8080/"
        },
        "id": "VYhBXJm6Ofe2",
        "outputId": "25ff6c68-3657-4616-e67c-09722d08419c"
      },
      "source": [
        "!pip install pandas-plink\n",
        "!pip install scikit-allel"
      ],
      "execution_count": 3,
      "outputs": [
        {
          "output_type": "stream",
          "name": "stdout",
          "text": [
            "Collecting pandas-plink\n",
            "  Downloading pandas_plink-2.2.9-cp37-cp37m-manylinux2010_x86_64.whl (100 kB)\n",
            "\u001b[?25l\r\u001b[K     |███▎                            | 10 kB 22.5 MB/s eta 0:00:01\r\u001b[K     |██████▌                         | 20 kB 28.0 MB/s eta 0:00:01\r\u001b[K     |█████████▉                      | 30 kB 12.5 MB/s eta 0:00:01\r\u001b[K     |█████████████                   | 40 kB 9.7 MB/s eta 0:00:01\r\u001b[K     |████████████████▎               | 51 kB 5.2 MB/s eta 0:00:01\r\u001b[K     |███████████████████▋            | 61 kB 5.7 MB/s eta 0:00:01\r\u001b[K     |██████████████████████▉         | 71 kB 5.7 MB/s eta 0:00:01\r\u001b[K     |██████████████████████████▏     | 81 kB 6.4 MB/s eta 0:00:01\r\u001b[K     |█████████████████████████████▍  | 92 kB 4.9 MB/s eta 0:00:01\r\u001b[K     |████████████████████████████████| 100 kB 3.4 MB/s \n",
            "\u001b[?25hRequirement already satisfied: tqdm>=4.36.1 in /usr/local/lib/python3.7/dist-packages (from pandas-plink) (4.62.3)\n",
            "Requirement already satisfied: numpy>=1.17.2 in /usr/local/lib/python3.7/dist-packages (from pandas-plink) (1.19.5)\n",
            "Requirement already satisfied: dask[array,dataframe]>=2.6.0 in /usr/local/lib/python3.7/dist-packages (from pandas-plink) (2.12.0)\n",
            "Collecting Deprecated>=1.2.6\n",
            "  Downloading Deprecated-1.2.13-py2.py3-none-any.whl (9.6 kB)\n",
            "Collecting zstandard>=0.13.0\n",
            "  Downloading zstandard-0.16.0-cp37-cp37m-manylinux_2_17_x86_64.manylinux2014_x86_64.whl (2.9 MB)\n",
            "\u001b[K     |████████████████████████████████| 2.9 MB 43.8 MB/s \n",
            "\u001b[?25hCollecting pytest>=5.2.2\n",
            "  Downloading pytest-6.2.5-py3-none-any.whl (280 kB)\n",
            "\u001b[K     |████████████████████████████████| 280 kB 43.7 MB/s \n",
            "\u001b[?25hRequirement already satisfied: cffi>=1.14.3 in /usr/local/lib/python3.7/dist-packages (from pandas-plink) (1.15.0)\n",
            "Requirement already satisfied: pandas>=1.1.3 in /usr/local/lib/python3.7/dist-packages (from pandas-plink) (1.1.5)\n",
            "Requirement already satisfied: xarray>=0.18.2 in /usr/local/lib/python3.7/dist-packages (from pandas-plink) (0.18.2)\n",
            "Requirement already satisfied: pycparser in /usr/local/lib/python3.7/dist-packages (from cffi>=1.14.3->pandas-plink) (2.21)\n",
            "Requirement already satisfied: toolz>=0.7.3 in /usr/local/lib/python3.7/dist-packages (from dask[array,dataframe]>=2.6.0->pandas-plink) (0.11.2)\n",
            "Collecting fsspec>=0.6.0\n",
            "  Downloading fsspec-2021.11.1-py3-none-any.whl (132 kB)\n",
            "\u001b[K     |████████████████████████████████| 132 kB 63.5 MB/s \n",
            "\u001b[?25hCollecting partd>=0.3.10\n",
            "  Downloading partd-1.2.0-py3-none-any.whl (19 kB)\n",
            "Requirement already satisfied: wrapt<2,>=1.10 in /usr/local/lib/python3.7/dist-packages (from Deprecated>=1.2.6->pandas-plink) (1.13.3)\n",
            "Requirement already satisfied: pytz>=2017.2 in /usr/local/lib/python3.7/dist-packages (from pandas>=1.1.3->pandas-plink) (2018.9)\n",
            "Requirement already satisfied: python-dateutil>=2.7.3 in /usr/local/lib/python3.7/dist-packages (from pandas>=1.1.3->pandas-plink) (2.8.2)\n",
            "Collecting locket\n",
            "  Downloading locket-0.2.1-py2.py3-none-any.whl (4.1 kB)\n",
            "Requirement already satisfied: attrs>=19.2.0 in /usr/local/lib/python3.7/dist-packages (from pytest>=5.2.2->pandas-plink) (21.2.0)\n",
            "Requirement already satisfied: importlib-metadata>=0.12 in /usr/local/lib/python3.7/dist-packages (from pytest>=5.2.2->pandas-plink) (4.8.2)\n",
            "Requirement already satisfied: packaging in /usr/local/lib/python3.7/dist-packages (from pytest>=5.2.2->pandas-plink) (21.3)\n",
            "Collecting pluggy<2.0,>=0.12\n",
            "  Downloading pluggy-1.0.0-py2.py3-none-any.whl (13 kB)\n",
            "Requirement already satisfied: py>=1.8.2 in /usr/local/lib/python3.7/dist-packages (from pytest>=5.2.2->pandas-plink) (1.11.0)\n",
            "Requirement already satisfied: iniconfig in /usr/local/lib/python3.7/dist-packages (from pytest>=5.2.2->pandas-plink) (1.1.1)\n",
            "Requirement already satisfied: toml in /usr/local/lib/python3.7/dist-packages (from pytest>=5.2.2->pandas-plink) (0.10.2)\n",
            "Requirement already satisfied: zipp>=0.5 in /usr/local/lib/python3.7/dist-packages (from importlib-metadata>=0.12->pytest>=5.2.2->pandas-plink) (3.6.0)\n",
            "Requirement already satisfied: typing-extensions>=3.6.4 in /usr/local/lib/python3.7/dist-packages (from importlib-metadata>=0.12->pytest>=5.2.2->pandas-plink) (3.10.0.2)\n",
            "Requirement already satisfied: six>=1.5 in /usr/local/lib/python3.7/dist-packages (from python-dateutil>=2.7.3->pandas>=1.1.3->pandas-plink) (1.15.0)\n",
            "Requirement already satisfied: setuptools>=40.4 in /usr/local/lib/python3.7/dist-packages (from xarray>=0.18.2->pandas-plink) (57.4.0)\n",
            "Requirement already satisfied: pyparsing!=3.0.5,>=2.0.2 in /usr/local/lib/python3.7/dist-packages (from packaging->pytest>=5.2.2->pandas-plink) (3.0.6)\n",
            "Installing collected packages: locket, pluggy, partd, fsspec, zstandard, pytest, Deprecated, pandas-plink\n",
            "  Attempting uninstall: pluggy\n",
            "    Found existing installation: pluggy 0.7.1\n",
            "    Uninstalling pluggy-0.7.1:\n",
            "      Successfully uninstalled pluggy-0.7.1\n",
            "  Attempting uninstall: pytest\n",
            "    Found existing installation: pytest 3.6.4\n",
            "    Uninstalling pytest-3.6.4:\n",
            "      Successfully uninstalled pytest-3.6.4\n",
            "\u001b[31mERROR: pip's dependency resolver does not currently take into account all the packages that are installed. This behaviour is the source of the following dependency conflicts.\n",
            "datascience 0.10.6 requires folium==0.2.1, but you have folium 0.8.3 which is incompatible.\u001b[0m\n",
            "Successfully installed Deprecated-1.2.13 fsspec-2021.11.1 locket-0.2.1 pandas-plink-2.2.9 partd-1.2.0 pluggy-1.0.0 pytest-6.2.5 zstandard-0.16.0\n",
            "Collecting scikit-allel\n",
            "  Downloading scikit_allel-1.3.5-cp37-cp37m-manylinux2010_x86_64.whl (5.7 MB)\n",
            "\u001b[K     |████████████████████████████████| 5.7 MB 4.9 MB/s \n",
            "\u001b[?25hRequirement already satisfied: numpy in /usr/local/lib/python3.7/dist-packages (from scikit-allel) (1.19.5)\n",
            "Requirement already satisfied: dask[array] in /usr/local/lib/python3.7/dist-packages (from scikit-allel) (2.12.0)\n",
            "Requirement already satisfied: toolz>=0.7.3 in /usr/local/lib/python3.7/dist-packages (from dask[array]->scikit-allel) (0.11.2)\n",
            "Installing collected packages: scikit-allel\n",
            "Successfully installed scikit-allel-1.3.5\n"
          ]
        }
      ]
    },
    {
      "cell_type": "markdown",
      "metadata": {
        "id": "UD2zed9NOJUq"
      },
      "source": [
        ""
      ]
    },
    {
      "cell_type": "markdown",
      "metadata": {
        "id": "vsi_s2BTQvGE"
      },
      "source": [
        "# **Import the required packages**"
      ]
    },
    {
      "cell_type": "code",
      "metadata": {
        "id": "5I93F0limIGp"
      },
      "source": [
        "from tqdm import tqdm\n",
        "import numpy as np\n",
        "import allel\n",
        "import pandas as pd\n",
        "from sklearn import metrics\n",
        "import matplotlib.pyplot as plt\n",
        "from sklearn.preprocessing import StandardScaler\n",
        "from sklearn.preprocessing import MinMaxScaler\n",
        "from sklearn.model_selection import train_test_split\n",
        "from sklearn.linear_model import LogisticRegression\n",
        "from sklearn.model_selection import KFold\n",
        "from sklearn.model_selection import cross_val_score\n",
        "from sklearn.ensemble import RandomForestClassifier\n",
        "from sklearn.model_selection import RepeatedKFold\n",
        "from sklearn.ensemble import RandomForestRegressor\n",
        "from pprint import pprint\n",
        "from numpy import mean\n",
        "from numpy import std"
      ],
      "execution_count": 27,
      "outputs": []
    },
    {
      "cell_type": "code",
      "metadata": {
        "colab": {
          "base_uri": "https://localhost:8080/"
        },
        "id": "N4bsrNLTXYq1",
        "outputId": "ccba368e-36b1-47bc-d68c-337e186f26fa"
      },
      "source": [
        "from google.colab import drive\n",
        "drive.mount('/content/gdrive',force_remount=True)"
      ],
      "execution_count": 5,
      "outputs": [
        {
          "output_type": "stream",
          "name": "stdout",
          "text": [
            "Mounted at /content/gdrive\n"
          ]
        }
      ]
    },
    {
      "cell_type": "markdown",
      "metadata": {
        "id": "PWN0I3K7O5hG"
      },
      "source": [
        "# **Using Plink Tool to proces the bim, fam, and bed files to generate the genotype matrix**"
      ]
    },
    {
      "cell_type": "code",
      "metadata": {
        "id": "6OfEInKVX-cC"
      },
      "source": [
        "from pandas_plink import read_plink1_bin\n"
      ],
      "execution_count": 6,
      "outputs": []
    },
    {
      "cell_type": "code",
      "metadata": {
        "id": "w72iitzvXYwr"
      },
      "source": [
        "G = read_plink1_bin(\"/content/gdrive/MyDrive/genopheno/Genotypes/sample.bed\", \"/content/gdrive/MyDrive/genopheno/Genotypes/sample.bim\", \"/content/gdrive/MyDrive/genopheno/Genotypes/sample.fam\", verbose=False)"
      ],
      "execution_count": 7,
      "outputs": []
    },
    {
      "cell_type": "code",
      "metadata": {
        "colab": {
          "base_uri": "https://localhost:8080/",
          "height": 656
        },
        "id": "DCR9cO3HXY0F",
        "outputId": "19441c8f-f60f-43e4-ec32-14936887cecc"
      },
      "source": [
        "G"
      ],
      "execution_count": 8,
      "outputs": [
        {
          "output_type": "execute_result",
          "data": {
            "text/html": [
              "<div><svg style=\"position: absolute; width: 0; height: 0; overflow: hidden\">\n",
              "<defs>\n",
              "<symbol id=\"icon-database\" viewBox=\"0 0 32 32\">\n",
              "<path d=\"M16 0c-8.837 0-16 2.239-16 5v4c0 2.761 7.163 5 16 5s16-2.239 16-5v-4c0-2.761-7.163-5-16-5z\"></path>\n",
              "<path d=\"M16 17c-8.837 0-16-2.239-16-5v6c0 2.761 7.163 5 16 5s16-2.239 16-5v-6c0 2.761-7.163 5-16 5z\"></path>\n",
              "<path d=\"M16 26c-8.837 0-16-2.239-16-5v6c0 2.761 7.163 5 16 5s16-2.239 16-5v-6c0 2.761-7.163 5-16 5z\"></path>\n",
              "</symbol>\n",
              "<symbol id=\"icon-file-text2\" viewBox=\"0 0 32 32\">\n",
              "<path d=\"M28.681 7.159c-0.694-0.947-1.662-2.053-2.724-3.116s-2.169-2.030-3.116-2.724c-1.612-1.182-2.393-1.319-2.841-1.319h-15.5c-1.378 0-2.5 1.121-2.5 2.5v27c0 1.378 1.122 2.5 2.5 2.5h23c1.378 0 2.5-1.122 2.5-2.5v-19.5c0-0.448-0.137-1.23-1.319-2.841zM24.543 5.457c0.959 0.959 1.712 1.825 2.268 2.543h-4.811v-4.811c0.718 0.556 1.584 1.309 2.543 2.268zM28 29.5c0 0.271-0.229 0.5-0.5 0.5h-23c-0.271 0-0.5-0.229-0.5-0.5v-27c0-0.271 0.229-0.5 0.5-0.5 0 0 15.499-0 15.5 0v7c0 0.552 0.448 1 1 1h7v19.5z\"></path>\n",
              "<path d=\"M23 26h-14c-0.552 0-1-0.448-1-1s0.448-1 1-1h14c0.552 0 1 0.448 1 1s-0.448 1-1 1z\"></path>\n",
              "<path d=\"M23 22h-14c-0.552 0-1-0.448-1-1s0.448-1 1-1h14c0.552 0 1 0.448 1 1s-0.448 1-1 1z\"></path>\n",
              "<path d=\"M23 18h-14c-0.552 0-1-0.448-1-1s0.448-1 1-1h14c0.552 0 1 0.448 1 1s-0.448 1-1 1z\"></path>\n",
              "</symbol>\n",
              "</defs>\n",
              "</svg>\n",
              "<style>/* CSS stylesheet for displaying xarray objects in jupyterlab.\n",
              " *\n",
              " */\n",
              "\n",
              ":root {\n",
              "  --xr-font-color0: var(--jp-content-font-color0, rgba(0, 0, 0, 1));\n",
              "  --xr-font-color2: var(--jp-content-font-color2, rgba(0, 0, 0, 0.54));\n",
              "  --xr-font-color3: var(--jp-content-font-color3, rgba(0, 0, 0, 0.38));\n",
              "  --xr-border-color: var(--jp-border-color2, #e0e0e0);\n",
              "  --xr-disabled-color: var(--jp-layout-color3, #bdbdbd);\n",
              "  --xr-background-color: var(--jp-layout-color0, white);\n",
              "  --xr-background-color-row-even: var(--jp-layout-color1, white);\n",
              "  --xr-background-color-row-odd: var(--jp-layout-color2, #eeeeee);\n",
              "}\n",
              "\n",
              "html[theme=dark],\n",
              "body.vscode-dark {\n",
              "  --xr-font-color0: rgba(255, 255, 255, 1);\n",
              "  --xr-font-color2: rgba(255, 255, 255, 0.54);\n",
              "  --xr-font-color3: rgba(255, 255, 255, 0.38);\n",
              "  --xr-border-color: #1F1F1F;\n",
              "  --xr-disabled-color: #515151;\n",
              "  --xr-background-color: #111111;\n",
              "  --xr-background-color-row-even: #111111;\n",
              "  --xr-background-color-row-odd: #313131;\n",
              "}\n",
              "\n",
              ".xr-wrap {\n",
              "  display: block;\n",
              "  min-width: 300px;\n",
              "  max-width: 700px;\n",
              "}\n",
              "\n",
              ".xr-text-repr-fallback {\n",
              "  /* fallback to plain text repr when CSS is not injected (untrusted notebook) */\n",
              "  display: none;\n",
              "}\n",
              "\n",
              ".xr-header {\n",
              "  padding-top: 6px;\n",
              "  padding-bottom: 6px;\n",
              "  margin-bottom: 4px;\n",
              "  border-bottom: solid 1px var(--xr-border-color);\n",
              "}\n",
              "\n",
              ".xr-header > div,\n",
              ".xr-header > ul {\n",
              "  display: inline;\n",
              "  margin-top: 0;\n",
              "  margin-bottom: 0;\n",
              "}\n",
              "\n",
              ".xr-obj-type,\n",
              ".xr-array-name {\n",
              "  margin-left: 2px;\n",
              "  margin-right: 10px;\n",
              "}\n",
              "\n",
              ".xr-obj-type {\n",
              "  color: var(--xr-font-color2);\n",
              "}\n",
              "\n",
              ".xr-sections {\n",
              "  padding-left: 0 !important;\n",
              "  display: grid;\n",
              "  grid-template-columns: 150px auto auto 1fr 20px 20px;\n",
              "}\n",
              "\n",
              ".xr-section-item {\n",
              "  display: contents;\n",
              "}\n",
              "\n",
              ".xr-section-item input {\n",
              "  display: none;\n",
              "}\n",
              "\n",
              ".xr-section-item input + label {\n",
              "  color: var(--xr-disabled-color);\n",
              "}\n",
              "\n",
              ".xr-section-item input:enabled + label {\n",
              "  cursor: pointer;\n",
              "  color: var(--xr-font-color2);\n",
              "}\n",
              "\n",
              ".xr-section-item input:enabled + label:hover {\n",
              "  color: var(--xr-font-color0);\n",
              "}\n",
              "\n",
              ".xr-section-summary {\n",
              "  grid-column: 1;\n",
              "  color: var(--xr-font-color2);\n",
              "  font-weight: 500;\n",
              "}\n",
              "\n",
              ".xr-section-summary > span {\n",
              "  display: inline-block;\n",
              "  padding-left: 0.5em;\n",
              "}\n",
              "\n",
              ".xr-section-summary-in:disabled + label {\n",
              "  color: var(--xr-font-color2);\n",
              "}\n",
              "\n",
              ".xr-section-summary-in + label:before {\n",
              "  display: inline-block;\n",
              "  content: '►';\n",
              "  font-size: 11px;\n",
              "  width: 15px;\n",
              "  text-align: center;\n",
              "}\n",
              "\n",
              ".xr-section-summary-in:disabled + label:before {\n",
              "  color: var(--xr-disabled-color);\n",
              "}\n",
              "\n",
              ".xr-section-summary-in:checked + label:before {\n",
              "  content: '▼';\n",
              "}\n",
              "\n",
              ".xr-section-summary-in:checked + label > span {\n",
              "  display: none;\n",
              "}\n",
              "\n",
              ".xr-section-summary,\n",
              ".xr-section-inline-details {\n",
              "  padding-top: 4px;\n",
              "  padding-bottom: 4px;\n",
              "}\n",
              "\n",
              ".xr-section-inline-details {\n",
              "  grid-column: 2 / -1;\n",
              "}\n",
              "\n",
              ".xr-section-details {\n",
              "  display: none;\n",
              "  grid-column: 1 / -1;\n",
              "  margin-bottom: 5px;\n",
              "}\n",
              "\n",
              ".xr-section-summary-in:checked ~ .xr-section-details {\n",
              "  display: contents;\n",
              "}\n",
              "\n",
              ".xr-array-wrap {\n",
              "  grid-column: 1 / -1;\n",
              "  display: grid;\n",
              "  grid-template-columns: 20px auto;\n",
              "}\n",
              "\n",
              ".xr-array-wrap > label {\n",
              "  grid-column: 1;\n",
              "  vertical-align: top;\n",
              "}\n",
              "\n",
              ".xr-preview {\n",
              "  color: var(--xr-font-color3);\n",
              "}\n",
              "\n",
              ".xr-array-preview,\n",
              ".xr-array-data {\n",
              "  padding: 0 5px !important;\n",
              "  grid-column: 2;\n",
              "}\n",
              "\n",
              ".xr-array-data,\n",
              ".xr-array-in:checked ~ .xr-array-preview {\n",
              "  display: none;\n",
              "}\n",
              "\n",
              ".xr-array-in:checked ~ .xr-array-data,\n",
              ".xr-array-preview {\n",
              "  display: inline-block;\n",
              "}\n",
              "\n",
              ".xr-dim-list {\n",
              "  display: inline-block !important;\n",
              "  list-style: none;\n",
              "  padding: 0 !important;\n",
              "  margin: 0;\n",
              "}\n",
              "\n",
              ".xr-dim-list li {\n",
              "  display: inline-block;\n",
              "  padding: 0;\n",
              "  margin: 0;\n",
              "}\n",
              "\n",
              ".xr-dim-list:before {\n",
              "  content: '(';\n",
              "}\n",
              "\n",
              ".xr-dim-list:after {\n",
              "  content: ')';\n",
              "}\n",
              "\n",
              ".xr-dim-list li:not(:last-child):after {\n",
              "  content: ',';\n",
              "  padding-right: 5px;\n",
              "}\n",
              "\n",
              ".xr-has-index {\n",
              "  font-weight: bold;\n",
              "}\n",
              "\n",
              ".xr-var-list,\n",
              ".xr-var-item {\n",
              "  display: contents;\n",
              "}\n",
              "\n",
              ".xr-var-item > div,\n",
              ".xr-var-item label,\n",
              ".xr-var-item > .xr-var-name span {\n",
              "  background-color: var(--xr-background-color-row-even);\n",
              "  margin-bottom: 0;\n",
              "}\n",
              "\n",
              ".xr-var-item > .xr-var-name:hover span {\n",
              "  padding-right: 5px;\n",
              "}\n",
              "\n",
              ".xr-var-list > li:nth-child(odd) > div,\n",
              ".xr-var-list > li:nth-child(odd) > label,\n",
              ".xr-var-list > li:nth-child(odd) > .xr-var-name span {\n",
              "  background-color: var(--xr-background-color-row-odd);\n",
              "}\n",
              "\n",
              ".xr-var-name {\n",
              "  grid-column: 1;\n",
              "}\n",
              "\n",
              ".xr-var-dims {\n",
              "  grid-column: 2;\n",
              "}\n",
              "\n",
              ".xr-var-dtype {\n",
              "  grid-column: 3;\n",
              "  text-align: right;\n",
              "  color: var(--xr-font-color2);\n",
              "}\n",
              "\n",
              ".xr-var-preview {\n",
              "  grid-column: 4;\n",
              "}\n",
              "\n",
              ".xr-var-name,\n",
              ".xr-var-dims,\n",
              ".xr-var-dtype,\n",
              ".xr-preview,\n",
              ".xr-attrs dt {\n",
              "  white-space: nowrap;\n",
              "  overflow: hidden;\n",
              "  text-overflow: ellipsis;\n",
              "  padding-right: 10px;\n",
              "}\n",
              "\n",
              ".xr-var-name:hover,\n",
              ".xr-var-dims:hover,\n",
              ".xr-var-dtype:hover,\n",
              ".xr-attrs dt:hover {\n",
              "  overflow: visible;\n",
              "  width: auto;\n",
              "  z-index: 1;\n",
              "}\n",
              "\n",
              ".xr-var-attrs,\n",
              ".xr-var-data {\n",
              "  display: none;\n",
              "  background-color: var(--xr-background-color) !important;\n",
              "  padding-bottom: 5px !important;\n",
              "}\n",
              "\n",
              ".xr-var-attrs-in:checked ~ .xr-var-attrs,\n",
              ".xr-var-data-in:checked ~ .xr-var-data {\n",
              "  display: block;\n",
              "}\n",
              "\n",
              ".xr-var-data > table {\n",
              "  float: right;\n",
              "}\n",
              "\n",
              ".xr-var-name span,\n",
              ".xr-var-data,\n",
              ".xr-attrs {\n",
              "  padding-left: 25px !important;\n",
              "}\n",
              "\n",
              ".xr-attrs,\n",
              ".xr-var-attrs,\n",
              ".xr-var-data {\n",
              "  grid-column: 1 / -1;\n",
              "}\n",
              "\n",
              "dl.xr-attrs {\n",
              "  padding: 0;\n",
              "  margin: 0;\n",
              "  display: grid;\n",
              "  grid-template-columns: 125px auto;\n",
              "}\n",
              "\n",
              ".xr-attrs dt,\n",
              ".xr-attrs dd {\n",
              "  padding: 0;\n",
              "  margin: 0;\n",
              "  float: left;\n",
              "  padding-right: 10px;\n",
              "  width: auto;\n",
              "}\n",
              "\n",
              ".xr-attrs dt {\n",
              "  font-weight: normal;\n",
              "  grid-column: 1;\n",
              "}\n",
              "\n",
              ".xr-attrs dt:hover span {\n",
              "  display: inline-block;\n",
              "  background: var(--xr-background-color);\n",
              "  padding-right: 10px;\n",
              "}\n",
              "\n",
              ".xr-attrs dd {\n",
              "  grid-column: 2;\n",
              "  white-space: pre-wrap;\n",
              "  word-break: break-all;\n",
              "}\n",
              "\n",
              ".xr-icon-database,\n",
              ".xr-icon-file-text2 {\n",
              "  display: inline-block;\n",
              "  vertical-align: middle;\n",
              "  width: 1em;\n",
              "  height: 1.5em !important;\n",
              "  stroke-width: 0;\n",
              "  stroke: currentColor;\n",
              "  fill: currentColor;\n",
              "}\n",
              "</style><pre class='xr-text-repr-fallback'>&lt;xarray.DataArray &#x27;genotype&#x27; (sample: 503, variant: 83678)&gt;\n",
              "dask.array&lt;transpose, shape=(503, 83678), dtype=float32, chunksize=(503, 1024), chunktype=numpy.ndarray&gt;\n",
              "Coordinates: (12/14)\n",
              "  * sample   (sample) object &#x27;HG00096&#x27; &#x27;HG00097&#x27; ... &#x27;NA20828&#x27; &#x27;NA20832&#x27;\n",
              "  * variant  (variant) &lt;U12 &#x27;variant0&#x27; &#x27;variant1&#x27; ... &#x27;variant83677&#x27;\n",
              "    fid      (sample) object &#x27;0&#x27; &#x27;0&#x27; &#x27;0&#x27; &#x27;0&#x27; &#x27;0&#x27; &#x27;0&#x27; ... &#x27;0&#x27; &#x27;0&#x27; &#x27;0&#x27; &#x27;0&#x27; &#x27;0&#x27; &#x27;0&#x27;\n",
              "    iid      (sample) object &#x27;HG00096&#x27; &#x27;HG00097&#x27; ... &#x27;NA20828&#x27; &#x27;NA20832&#x27;\n",
              "    father   (sample) object &#x27;0&#x27; &#x27;0&#x27; &#x27;0&#x27; &#x27;0&#x27; &#x27;0&#x27; &#x27;0&#x27; ... &#x27;0&#x27; &#x27;0&#x27; &#x27;0&#x27; &#x27;0&#x27; &#x27;0&#x27; &#x27;0&#x27;\n",
              "    mother   (sample) object &#x27;0&#x27; &#x27;0&#x27; &#x27;0&#x27; &#x27;0&#x27; &#x27;0&#x27; &#x27;0&#x27; ... &#x27;0&#x27; &#x27;0&#x27; &#x27;0&#x27; &#x27;0&#x27; &#x27;0&#x27; &#x27;0&#x27;\n",
              "    ...       ...\n",
              "    chrom    (variant) object &#x27;22&#x27; &#x27;22&#x27; &#x27;22&#x27; &#x27;22&#x27; &#x27;22&#x27; ... &#x27;22&#x27; &#x27;22&#x27; &#x27;22&#x27; &#x27;22&#x27;\n",
              "    snp      (variant) object &#x27;rs62224609&#x27; &#x27;rs4965031&#x27; ... &#x27;rs370652263&#x27;\n",
              "    cm       (variant) float64 0.0 0.0 0.0 0.0 0.0 0.0 ... 0.0 0.0 0.0 0.0 0.0\n",
              "    pos      (variant) int32 16051249 16052080 16052962 ... 51237063 51237712\n",
              "    a0       (variant) object &#x27;C&#x27; &#x27;A&#x27; &#x27;T&#x27; &#x27;A&#x27; &#x27;T&#x27; &#x27;C&#x27; ... &#x27;C&#x27; &#x27;C&#x27; &#x27;A&#x27; &#x27;C&#x27; &#x27;A&#x27;\n",
              "    a1       (variant) object &#x27;T&#x27; &#x27;G&#x27; &#x27;C&#x27; &#x27;C&#x27; &#x27;A&#x27; &#x27;A&#x27; ... &#x27;T&#x27; &#x27;T&#x27; &#x27;G&#x27; &#x27;T&#x27; &#x27;G&#x27;</pre><div class='xr-wrap' hidden><div class='xr-header'><div class='xr-obj-type'>xarray.DataArray</div><div class='xr-array-name'>'genotype'</div><ul class='xr-dim-list'><li><span class='xr-has-index'>sample</span>: 503</li><li><span class='xr-has-index'>variant</span>: 83678</li></ul></div><ul class='xr-sections'><li class='xr-section-item'><div class='xr-array-wrap'><input id='section-607c2cd2-8e1f-4eb4-bbc5-c3529e0412b8' class='xr-array-in' type='checkbox' checked><label for='section-607c2cd2-8e1f-4eb4-bbc5-c3529e0412b8' title='Show/hide data repr'><svg class='icon xr-icon-database'><use xlink:href='#icon-database'></use></svg></label><div class='xr-array-preview xr-preview'><span>dask.array&lt;chunksize=(503, 1024), meta=np.ndarray&gt;</span></div><div class='xr-array-data'><table>\n",
              "<tr>\n",
              "<td>\n",
              "<table>\n",
              "  <thead>\n",
              "    <tr><td> </td><th> Array </th><th> Chunk </th></tr>\n",
              "  </thead>\n",
              "  <tbody>\n",
              "    <tr><th> Bytes </th><td> 168.36 MB </td> <td> 2.06 MB </td></tr>\n",
              "    <tr><th> Shape </th><td> (503, 83678) </td> <td> (503, 1024) </td></tr>\n",
              "    <tr><th> Count </th><td> 328 Tasks </td><td> 82 Chunks </td></tr>\n",
              "    <tr><th> Type </th><td> float32 </td><td> numpy.ndarray </td></tr>\n",
              "  </tbody>\n",
              "</table>\n",
              "</td>\n",
              "<td>\n",
              "<svg width=\"170\" height=\"75\" style=\"stroke:rgb(0,0,0);stroke-width:1\" >\n",
              "\n",
              "  <!-- Horizontal lines -->\n",
              "  <line x1=\"0\" y1=\"0\" x2=\"120\" y2=\"0\" style=\"stroke-width:2\" />\n",
              "  <line x1=\"0\" y1=\"25\" x2=\"120\" y2=\"25\" style=\"stroke-width:2\" />\n",
              "\n",
              "  <!-- Vertical lines -->\n",
              "  <line x1=\"0\" y1=\"0\" x2=\"0\" y2=\"25\" style=\"stroke-width:2\" />\n",
              "  <line x1=\"1\" y1=\"0\" x2=\"1\" y2=\"25\" />\n",
              "  <line x1=\"2\" y1=\"0\" x2=\"2\" y2=\"25\" />\n",
              "  <line x1=\"4\" y1=\"0\" x2=\"4\" y2=\"25\" />\n",
              "  <line x1=\"5\" y1=\"0\" x2=\"5\" y2=\"25\" />\n",
              "  <line x1=\"7\" y1=\"0\" x2=\"7\" y2=\"25\" />\n",
              "  <line x1=\"8\" y1=\"0\" x2=\"8\" y2=\"25\" />\n",
              "  <line x1=\"10\" y1=\"0\" x2=\"10\" y2=\"25\" />\n",
              "  <line x1=\"11\" y1=\"0\" x2=\"11\" y2=\"25\" />\n",
              "  <line x1=\"13\" y1=\"0\" x2=\"13\" y2=\"25\" />\n",
              "  <line x1=\"14\" y1=\"0\" x2=\"14\" y2=\"25\" />\n",
              "  <line x1=\"16\" y1=\"0\" x2=\"16\" y2=\"25\" />\n",
              "  <line x1=\"17\" y1=\"0\" x2=\"17\" y2=\"25\" />\n",
              "  <line x1=\"19\" y1=\"0\" x2=\"19\" y2=\"25\" />\n",
              "  <line x1=\"20\" y1=\"0\" x2=\"20\" y2=\"25\" />\n",
              "  <line x1=\"22\" y1=\"0\" x2=\"22\" y2=\"25\" />\n",
              "  <line x1=\"23\" y1=\"0\" x2=\"23\" y2=\"25\" />\n",
              "  <line x1=\"24\" y1=\"0\" x2=\"24\" y2=\"25\" />\n",
              "  <line x1=\"26\" y1=\"0\" x2=\"26\" y2=\"25\" />\n",
              "  <line x1=\"27\" y1=\"0\" x2=\"27\" y2=\"25\" />\n",
              "  <line x1=\"29\" y1=\"0\" x2=\"29\" y2=\"25\" />\n",
              "  <line x1=\"30\" y1=\"0\" x2=\"30\" y2=\"25\" />\n",
              "  <line x1=\"32\" y1=\"0\" x2=\"32\" y2=\"25\" />\n",
              "  <line x1=\"33\" y1=\"0\" x2=\"33\" y2=\"25\" />\n",
              "  <line x1=\"35\" y1=\"0\" x2=\"35\" y2=\"25\" />\n",
              "  <line x1=\"36\" y1=\"0\" x2=\"36\" y2=\"25\" />\n",
              "  <line x1=\"38\" y1=\"0\" x2=\"38\" y2=\"25\" />\n",
              "  <line x1=\"39\" y1=\"0\" x2=\"39\" y2=\"25\" />\n",
              "  <line x1=\"41\" y1=\"0\" x2=\"41\" y2=\"25\" />\n",
              "  <line x1=\"42\" y1=\"0\" x2=\"42\" y2=\"25\" />\n",
              "  <line x1=\"44\" y1=\"0\" x2=\"44\" y2=\"25\" />\n",
              "  <line x1=\"45\" y1=\"0\" x2=\"45\" y2=\"25\" />\n",
              "  <line x1=\"46\" y1=\"0\" x2=\"46\" y2=\"25\" />\n",
              "  <line x1=\"48\" y1=\"0\" x2=\"48\" y2=\"25\" />\n",
              "  <line x1=\"49\" y1=\"0\" x2=\"49\" y2=\"25\" />\n",
              "  <line x1=\"51\" y1=\"0\" x2=\"51\" y2=\"25\" />\n",
              "  <line x1=\"52\" y1=\"0\" x2=\"52\" y2=\"25\" />\n",
              "  <line x1=\"54\" y1=\"0\" x2=\"54\" y2=\"25\" />\n",
              "  <line x1=\"55\" y1=\"0\" x2=\"55\" y2=\"25\" />\n",
              "  <line x1=\"57\" y1=\"0\" x2=\"57\" y2=\"25\" />\n",
              "  <line x1=\"58\" y1=\"0\" x2=\"58\" y2=\"25\" />\n",
              "  <line x1=\"60\" y1=\"0\" x2=\"60\" y2=\"25\" />\n",
              "  <line x1=\"61\" y1=\"0\" x2=\"61\" y2=\"25\" />\n",
              "  <line x1=\"63\" y1=\"0\" x2=\"63\" y2=\"25\" />\n",
              "  <line x1=\"64\" y1=\"0\" x2=\"64\" y2=\"25\" />\n",
              "  <line x1=\"66\" y1=\"0\" x2=\"66\" y2=\"25\" />\n",
              "  <line x1=\"67\" y1=\"0\" x2=\"67\" y2=\"25\" />\n",
              "  <line x1=\"69\" y1=\"0\" x2=\"69\" y2=\"25\" />\n",
              "  <line x1=\"70\" y1=\"0\" x2=\"70\" y2=\"25\" />\n",
              "  <line x1=\"71\" y1=\"0\" x2=\"71\" y2=\"25\" />\n",
              "  <line x1=\"73\" y1=\"0\" x2=\"73\" y2=\"25\" />\n",
              "  <line x1=\"74\" y1=\"0\" x2=\"74\" y2=\"25\" />\n",
              "  <line x1=\"76\" y1=\"0\" x2=\"76\" y2=\"25\" />\n",
              "  <line x1=\"77\" y1=\"0\" x2=\"77\" y2=\"25\" />\n",
              "  <line x1=\"79\" y1=\"0\" x2=\"79\" y2=\"25\" />\n",
              "  <line x1=\"80\" y1=\"0\" x2=\"80\" y2=\"25\" />\n",
              "  <line x1=\"82\" y1=\"0\" x2=\"82\" y2=\"25\" />\n",
              "  <line x1=\"83\" y1=\"0\" x2=\"83\" y2=\"25\" />\n",
              "  <line x1=\"85\" y1=\"0\" x2=\"85\" y2=\"25\" />\n",
              "  <line x1=\"86\" y1=\"0\" x2=\"86\" y2=\"25\" />\n",
              "  <line x1=\"88\" y1=\"0\" x2=\"88\" y2=\"25\" />\n",
              "  <line x1=\"89\" y1=\"0\" x2=\"89\" y2=\"25\" />\n",
              "  <line x1=\"91\" y1=\"0\" x2=\"91\" y2=\"25\" />\n",
              "  <line x1=\"92\" y1=\"0\" x2=\"92\" y2=\"25\" />\n",
              "  <line x1=\"93\" y1=\"0\" x2=\"93\" y2=\"25\" />\n",
              "  <line x1=\"95\" y1=\"0\" x2=\"95\" y2=\"25\" />\n",
              "  <line x1=\"96\" y1=\"0\" x2=\"96\" y2=\"25\" />\n",
              "  <line x1=\"98\" y1=\"0\" x2=\"98\" y2=\"25\" />\n",
              "  <line x1=\"99\" y1=\"0\" x2=\"99\" y2=\"25\" />\n",
              "  <line x1=\"101\" y1=\"0\" x2=\"101\" y2=\"25\" />\n",
              "  <line x1=\"102\" y1=\"0\" x2=\"102\" y2=\"25\" />\n",
              "  <line x1=\"104\" y1=\"0\" x2=\"104\" y2=\"25\" />\n",
              "  <line x1=\"105\" y1=\"0\" x2=\"105\" y2=\"25\" />\n",
              "  <line x1=\"107\" y1=\"0\" x2=\"107\" y2=\"25\" />\n",
              "  <line x1=\"108\" y1=\"0\" x2=\"108\" y2=\"25\" />\n",
              "  <line x1=\"110\" y1=\"0\" x2=\"110\" y2=\"25\" />\n",
              "  <line x1=\"111\" y1=\"0\" x2=\"111\" y2=\"25\" />\n",
              "  <line x1=\"113\" y1=\"0\" x2=\"113\" y2=\"25\" />\n",
              "  <line x1=\"114\" y1=\"0\" x2=\"114\" y2=\"25\" />\n",
              "  <line x1=\"116\" y1=\"0\" x2=\"116\" y2=\"25\" />\n",
              "  <line x1=\"117\" y1=\"0\" x2=\"117\" y2=\"25\" />\n",
              "  <line x1=\"118\" y1=\"0\" x2=\"118\" y2=\"25\" />\n",
              "  <line x1=\"120\" y1=\"0\" x2=\"120\" y2=\"25\" style=\"stroke-width:2\" />\n",
              "\n",
              "  <!-- Colored Rectangle -->\n",
              "  <polygon points=\"0.000000,0.000000 120.000000,0.000000 120.000000,25.412617 0.000000,25.412617\" style=\"fill:#ECB172A0;stroke-width:0\"/>\n",
              "\n",
              "  <!-- Text -->\n",
              "  <text x=\"60.000000\" y=\"45.412617\" font-size=\"1.0rem\" font-weight=\"100\" text-anchor=\"middle\" >83678</text>\n",
              "  <text x=\"140.000000\" y=\"12.706308\" font-size=\"1.0rem\" font-weight=\"100\" text-anchor=\"middle\" transform=\"rotate(-90,140.000000,12.706308)\">503</text>\n",
              "</svg>\n",
              "</td>\n",
              "</tr>\n",
              "</table></div></div></li><li class='xr-section-item'><input id='section-378830f9-0c4f-43ad-98b4-ab5176d32c76' class='xr-section-summary-in' type='checkbox'  checked><label for='section-378830f9-0c4f-43ad-98b4-ab5176d32c76' class='xr-section-summary' >Coordinates: <span>(14)</span></label><div class='xr-section-inline-details'></div><div class='xr-section-details'><ul class='xr-var-list'><li class='xr-var-item'><div class='xr-var-name'><span class='xr-has-index'>sample</span></div><div class='xr-var-dims'>(sample)</div><div class='xr-var-dtype'>object</div><div class='xr-var-preview xr-preview'>&#x27;HG00096&#x27; &#x27;HG00097&#x27; ... &#x27;NA20832&#x27;</div><input id='attrs-aa04d85d-d645-426d-8d30-ebd543af65aa' class='xr-var-attrs-in' type='checkbox' disabled><label for='attrs-aa04d85d-d645-426d-8d30-ebd543af65aa' title='Show/Hide attributes'><svg class='icon xr-icon-file-text2'><use xlink:href='#icon-file-text2'></use></svg></label><input id='data-01fd4671-c7ca-4ef6-a37e-754551fc5b1f' class='xr-var-data-in' type='checkbox'><label for='data-01fd4671-c7ca-4ef6-a37e-754551fc5b1f' title='Show/Hide data repr'><svg class='icon xr-icon-database'><use xlink:href='#icon-database'></use></svg></label><div class='xr-var-attrs'><dl class='xr-attrs'></dl></div><div class='xr-var-data'><pre>array([&#x27;HG00096&#x27;, &#x27;HG00097&#x27;, &#x27;HG00099&#x27;, ..., &#x27;NA20827&#x27;, &#x27;NA20828&#x27;, &#x27;NA20832&#x27;],\n",
              "      dtype=object)</pre></div></li><li class='xr-var-item'><div class='xr-var-name'><span class='xr-has-index'>variant</span></div><div class='xr-var-dims'>(variant)</div><div class='xr-var-dtype'>&lt;U12</div><div class='xr-var-preview xr-preview'>&#x27;variant0&#x27; ... &#x27;variant83677&#x27;</div><input id='attrs-9336005b-00a3-467c-bc92-a441336d94f4' class='xr-var-attrs-in' type='checkbox' disabled><label for='attrs-9336005b-00a3-467c-bc92-a441336d94f4' title='Show/Hide attributes'><svg class='icon xr-icon-file-text2'><use xlink:href='#icon-file-text2'></use></svg></label><input id='data-027000bd-6a42-49cd-848c-5b1e2c5c47c5' class='xr-var-data-in' type='checkbox'><label for='data-027000bd-6a42-49cd-848c-5b1e2c5c47c5' title='Show/Hide data repr'><svg class='icon xr-icon-database'><use xlink:href='#icon-database'></use></svg></label><div class='xr-var-attrs'><dl class='xr-attrs'></dl></div><div class='xr-var-data'><pre>array([&#x27;variant0&#x27;, &#x27;variant1&#x27;, &#x27;variant2&#x27;, ..., &#x27;variant83675&#x27;, &#x27;variant83676&#x27;,\n",
              "       &#x27;variant83677&#x27;], dtype=&#x27;&lt;U12&#x27;)</pre></div></li><li class='xr-var-item'><div class='xr-var-name'><span>fid</span></div><div class='xr-var-dims'>(sample)</div><div class='xr-var-dtype'>object</div><div class='xr-var-preview xr-preview'>&#x27;0&#x27; &#x27;0&#x27; &#x27;0&#x27; &#x27;0&#x27; ... &#x27;0&#x27; &#x27;0&#x27; &#x27;0&#x27; &#x27;0&#x27;</div><input id='attrs-0adcd64f-9716-4a9b-b73f-8dbf17a8a043' class='xr-var-attrs-in' type='checkbox' disabled><label for='attrs-0adcd64f-9716-4a9b-b73f-8dbf17a8a043' title='Show/Hide attributes'><svg class='icon xr-icon-file-text2'><use xlink:href='#icon-file-text2'></use></svg></label><input id='data-bdaf7af7-ea8f-498a-ac3f-cddc1f91f7f2' class='xr-var-data-in' type='checkbox'><label for='data-bdaf7af7-ea8f-498a-ac3f-cddc1f91f7f2' title='Show/Hide data repr'><svg class='icon xr-icon-database'><use xlink:href='#icon-database'></use></svg></label><div class='xr-var-attrs'><dl class='xr-attrs'></dl></div><div class='xr-var-data'><pre>array([&#x27;0&#x27;, &#x27;0&#x27;, &#x27;0&#x27;, &#x27;0&#x27;, &#x27;0&#x27;, &#x27;0&#x27;, &#x27;0&#x27;, &#x27;0&#x27;, &#x27;0&#x27;, &#x27;0&#x27;, &#x27;0&#x27;, &#x27;0&#x27;, &#x27;0&#x27;,\n",
              "       &#x27;0&#x27;, &#x27;0&#x27;, &#x27;0&#x27;, &#x27;0&#x27;, &#x27;0&#x27;, &#x27;0&#x27;, &#x27;0&#x27;, &#x27;0&#x27;, &#x27;0&#x27;, &#x27;0&#x27;, &#x27;0&#x27;, &#x27;0&#x27;, &#x27;0&#x27;,\n",
              "       &#x27;0&#x27;, &#x27;0&#x27;, &#x27;0&#x27;, &#x27;0&#x27;, &#x27;0&#x27;, &#x27;0&#x27;, &#x27;0&#x27;, &#x27;0&#x27;, &#x27;0&#x27;, &#x27;0&#x27;, &#x27;0&#x27;, &#x27;0&#x27;, &#x27;0&#x27;,\n",
              "       &#x27;0&#x27;, &#x27;0&#x27;, &#x27;0&#x27;, &#x27;0&#x27;, &#x27;0&#x27;, &#x27;0&#x27;, &#x27;0&#x27;, &#x27;0&#x27;, &#x27;0&#x27;, &#x27;0&#x27;, &#x27;0&#x27;, &#x27;0&#x27;, &#x27;0&#x27;,\n",
              "       &#x27;0&#x27;, &#x27;0&#x27;, &#x27;0&#x27;, &#x27;0&#x27;, &#x27;0&#x27;, &#x27;0&#x27;, &#x27;0&#x27;, &#x27;0&#x27;, &#x27;0&#x27;, &#x27;0&#x27;, &#x27;0&#x27;, &#x27;0&#x27;, &#x27;0&#x27;,\n",
              "       &#x27;0&#x27;, &#x27;0&#x27;, &#x27;0&#x27;, &#x27;0&#x27;, &#x27;0&#x27;, &#x27;0&#x27;, &#x27;0&#x27;, &#x27;0&#x27;, &#x27;0&#x27;, &#x27;0&#x27;, &#x27;0&#x27;, &#x27;0&#x27;, &#x27;0&#x27;,\n",
              "       &#x27;0&#x27;, &#x27;0&#x27;, &#x27;0&#x27;, &#x27;0&#x27;, &#x27;0&#x27;, &#x27;0&#x27;, &#x27;0&#x27;, &#x27;0&#x27;, &#x27;0&#x27;, &#x27;0&#x27;, &#x27;0&#x27;, &#x27;0&#x27;, &#x27;0&#x27;,\n",
              "       &#x27;0&#x27;, &#x27;0&#x27;, &#x27;0&#x27;, &#x27;0&#x27;, &#x27;0&#x27;, &#x27;0&#x27;, &#x27;0&#x27;, &#x27;0&#x27;, &#x27;0&#x27;, &#x27;0&#x27;, &#x27;0&#x27;, &#x27;0&#x27;, &#x27;0&#x27;,\n",
              "       &#x27;0&#x27;, &#x27;0&#x27;, &#x27;0&#x27;, &#x27;0&#x27;, &#x27;0&#x27;, &#x27;0&#x27;, &#x27;0&#x27;, &#x27;0&#x27;, &#x27;0&#x27;, &#x27;0&#x27;, &#x27;0&#x27;, &#x27;0&#x27;, &#x27;0&#x27;,\n",
              "       &#x27;0&#x27;, &#x27;0&#x27;, &#x27;0&#x27;, &#x27;0&#x27;, &#x27;0&#x27;, &#x27;0&#x27;, &#x27;0&#x27;, &#x27;0&#x27;, &#x27;0&#x27;, &#x27;0&#x27;, &#x27;0&#x27;, &#x27;0&#x27;, &#x27;0&#x27;,\n",
              "       &#x27;0&#x27;, &#x27;0&#x27;, &#x27;0&#x27;, &#x27;0&#x27;, &#x27;0&#x27;, &#x27;0&#x27;, &#x27;0&#x27;, &#x27;0&#x27;, &#x27;0&#x27;, &#x27;0&#x27;, &#x27;0&#x27;, &#x27;0&#x27;, &#x27;0&#x27;,\n",
              "       &#x27;0&#x27;, &#x27;0&#x27;, &#x27;0&#x27;, &#x27;0&#x27;, &#x27;0&#x27;, &#x27;0&#x27;, &#x27;0&#x27;, &#x27;0&#x27;, &#x27;0&#x27;, &#x27;0&#x27;, &#x27;0&#x27;, &#x27;0&#x27;, &#x27;0&#x27;,\n",
              "       &#x27;0&#x27;, &#x27;0&#x27;, &#x27;0&#x27;, &#x27;0&#x27;, &#x27;0&#x27;, &#x27;0&#x27;, &#x27;0&#x27;, &#x27;0&#x27;, &#x27;0&#x27;, &#x27;0&#x27;, &#x27;0&#x27;, &#x27;0&#x27;, &#x27;0&#x27;,\n",
              "       &#x27;0&#x27;, &#x27;0&#x27;, &#x27;0&#x27;, &#x27;0&#x27;, &#x27;0&#x27;, &#x27;0&#x27;, &#x27;0&#x27;, &#x27;0&#x27;, &#x27;0&#x27;, &#x27;0&#x27;, &#x27;0&#x27;, &#x27;0&#x27;, &#x27;0&#x27;,\n",
              "       &#x27;0&#x27;, &#x27;0&#x27;, &#x27;0&#x27;, &#x27;0&#x27;, &#x27;0&#x27;, &#x27;0&#x27;, &#x27;0&#x27;, &#x27;0&#x27;, &#x27;0&#x27;, &#x27;0&#x27;, &#x27;0&#x27;, &#x27;0&#x27;, &#x27;0&#x27;,\n",
              "       &#x27;0&#x27;, &#x27;0&#x27;, &#x27;0&#x27;, &#x27;0&#x27;, &#x27;0&#x27;, &#x27;0&#x27;, &#x27;0&#x27;, &#x27;0&#x27;, &#x27;0&#x27;, &#x27;0&#x27;, &#x27;0&#x27;, &#x27;0&#x27;, &#x27;0&#x27;,\n",
              "       &#x27;0&#x27;, &#x27;0&#x27;, &#x27;0&#x27;, &#x27;0&#x27;, &#x27;0&#x27;, &#x27;0&#x27;, &#x27;0&#x27;, &#x27;0&#x27;, &#x27;0&#x27;, &#x27;0&#x27;, &#x27;0&#x27;, &#x27;0&#x27;, &#x27;0&#x27;,\n",
              "       &#x27;0&#x27;, &#x27;0&#x27;, &#x27;0&#x27;, &#x27;0&#x27;, &#x27;0&#x27;, &#x27;0&#x27;, &#x27;0&#x27;, &#x27;0&#x27;, &#x27;0&#x27;, &#x27;0&#x27;, &#x27;0&#x27;, &#x27;0&#x27;, &#x27;0&#x27;,\n",
              "       &#x27;0&#x27;, &#x27;0&#x27;, &#x27;0&#x27;, &#x27;0&#x27;, &#x27;0&#x27;, &#x27;0&#x27;, &#x27;0&#x27;, &#x27;0&#x27;, &#x27;0&#x27;, &#x27;0&#x27;, &#x27;0&#x27;, &#x27;0&#x27;, &#x27;0&#x27;,\n",
              "       &#x27;0&#x27;, &#x27;0&#x27;, &#x27;0&#x27;, &#x27;0&#x27;, &#x27;0&#x27;, &#x27;0&#x27;, &#x27;0&#x27;, &#x27;0&#x27;, &#x27;0&#x27;, &#x27;0&#x27;, &#x27;0&#x27;, &#x27;0&#x27;, &#x27;0&#x27;,\n",
              "       &#x27;0&#x27;, &#x27;0&#x27;, &#x27;0&#x27;, &#x27;0&#x27;, &#x27;0&#x27;, &#x27;0&#x27;, &#x27;0&#x27;, &#x27;0&#x27;, &#x27;0&#x27;, &#x27;0&#x27;, &#x27;0&#x27;, &#x27;0&#x27;, &#x27;0&#x27;,\n",
              "       &#x27;0&#x27;, &#x27;0&#x27;, &#x27;0&#x27;, &#x27;0&#x27;, &#x27;0&#x27;, &#x27;0&#x27;, &#x27;0&#x27;, &#x27;0&#x27;, &#x27;0&#x27;, &#x27;0&#x27;, &#x27;0&#x27;, &#x27;0&#x27;, &#x27;0&#x27;,\n",
              "       &#x27;0&#x27;, &#x27;0&#x27;, &#x27;0&#x27;, &#x27;0&#x27;, &#x27;0&#x27;, &#x27;0&#x27;, &#x27;0&#x27;, &#x27;0&#x27;, &#x27;0&#x27;, &#x27;0&#x27;, &#x27;0&#x27;, &#x27;0&#x27;, &#x27;0&#x27;,\n",
              "       &#x27;0&#x27;, &#x27;0&#x27;, &#x27;0&#x27;, &#x27;0&#x27;, &#x27;0&#x27;, &#x27;0&#x27;, &#x27;0&#x27;, &#x27;0&#x27;, &#x27;0&#x27;, &#x27;0&#x27;, &#x27;0&#x27;, &#x27;0&#x27;, &#x27;0&#x27;,\n",
              "       &#x27;0&#x27;, &#x27;0&#x27;, &#x27;0&#x27;, &#x27;0&#x27;, &#x27;0&#x27;, &#x27;0&#x27;, &#x27;0&#x27;, &#x27;0&#x27;, &#x27;0&#x27;, &#x27;0&#x27;, &#x27;0&#x27;, &#x27;0&#x27;, &#x27;0&#x27;,\n",
              "       &#x27;0&#x27;, &#x27;0&#x27;, &#x27;0&#x27;, &#x27;0&#x27;, &#x27;0&#x27;, &#x27;0&#x27;, &#x27;0&#x27;, &#x27;0&#x27;, &#x27;0&#x27;, &#x27;0&#x27;, &#x27;0&#x27;, &#x27;0&#x27;, &#x27;0&#x27;,\n",
              "       &#x27;0&#x27;, &#x27;0&#x27;, &#x27;0&#x27;, &#x27;0&#x27;, &#x27;0&#x27;, &#x27;0&#x27;, &#x27;0&#x27;, &#x27;0&#x27;, &#x27;0&#x27;, &#x27;0&#x27;, &#x27;0&#x27;, &#x27;0&#x27;, &#x27;0&#x27;,\n",
              "       &#x27;0&#x27;, &#x27;0&#x27;, &#x27;0&#x27;, &#x27;0&#x27;, &#x27;0&#x27;, &#x27;0&#x27;, &#x27;0&#x27;, &#x27;0&#x27;, &#x27;0&#x27;, &#x27;0&#x27;, &#x27;0&#x27;, &#x27;0&#x27;, &#x27;0&#x27;,\n",
              "       &#x27;0&#x27;, &#x27;0&#x27;, &#x27;0&#x27;, &#x27;0&#x27;, &#x27;0&#x27;, &#x27;0&#x27;, &#x27;0&#x27;, &#x27;0&#x27;, &#x27;0&#x27;, &#x27;0&#x27;, &#x27;0&#x27;, &#x27;0&#x27;, &#x27;0&#x27;,\n",
              "       &#x27;0&#x27;, &#x27;0&#x27;, &#x27;0&#x27;, &#x27;0&#x27;, &#x27;0&#x27;, &#x27;0&#x27;, &#x27;0&#x27;, &#x27;0&#x27;, &#x27;0&#x27;, &#x27;0&#x27;, &#x27;0&#x27;, &#x27;0&#x27;, &#x27;0&#x27;,\n",
              "       &#x27;0&#x27;, &#x27;0&#x27;, &#x27;0&#x27;, &#x27;0&#x27;, &#x27;0&#x27;, &#x27;0&#x27;, &#x27;0&#x27;, &#x27;0&#x27;, &#x27;0&#x27;, &#x27;0&#x27;, &#x27;0&#x27;, &#x27;0&#x27;, &#x27;0&#x27;,\n",
              "       &#x27;0&#x27;, &#x27;0&#x27;, &#x27;0&#x27;, &#x27;0&#x27;, &#x27;0&#x27;, &#x27;0&#x27;, &#x27;0&#x27;, &#x27;0&#x27;, &#x27;0&#x27;, &#x27;0&#x27;, &#x27;0&#x27;, &#x27;0&#x27;, &#x27;0&#x27;,\n",
              "       &#x27;0&#x27;, &#x27;0&#x27;, &#x27;0&#x27;, &#x27;0&#x27;, &#x27;0&#x27;, &#x27;0&#x27;, &#x27;0&#x27;, &#x27;0&#x27;, &#x27;0&#x27;, &#x27;0&#x27;, &#x27;0&#x27;, &#x27;0&#x27;, &#x27;0&#x27;,\n",
              "       &#x27;0&#x27;, &#x27;0&#x27;, &#x27;0&#x27;, &#x27;0&#x27;, &#x27;0&#x27;, &#x27;0&#x27;, &#x27;0&#x27;, &#x27;0&#x27;, &#x27;0&#x27;, &#x27;0&#x27;, &#x27;0&#x27;, &#x27;0&#x27;, &#x27;0&#x27;,\n",
              "       &#x27;0&#x27;, &#x27;0&#x27;, &#x27;0&#x27;, &#x27;0&#x27;, &#x27;0&#x27;, &#x27;0&#x27;, &#x27;0&#x27;, &#x27;0&#x27;, &#x27;0&#x27;, &#x27;0&#x27;, &#x27;0&#x27;, &#x27;0&#x27;, &#x27;0&#x27;,\n",
              "       &#x27;0&#x27;, &#x27;0&#x27;, &#x27;0&#x27;, &#x27;0&#x27;, &#x27;0&#x27;, &#x27;0&#x27;, &#x27;0&#x27;, &#x27;0&#x27;, &#x27;0&#x27;, &#x27;0&#x27;, &#x27;0&#x27;, &#x27;0&#x27;, &#x27;0&#x27;,\n",
              "       &#x27;0&#x27;, &#x27;0&#x27;, &#x27;0&#x27;, &#x27;0&#x27;, &#x27;0&#x27;, &#x27;0&#x27;, &#x27;0&#x27;, &#x27;0&#x27;, &#x27;0&#x27;, &#x27;0&#x27;, &#x27;0&#x27;, &#x27;0&#x27;, &#x27;0&#x27;,\n",
              "       &#x27;0&#x27;, &#x27;0&#x27;, &#x27;0&#x27;, &#x27;0&#x27;, &#x27;0&#x27;, &#x27;0&#x27;, &#x27;0&#x27;, &#x27;0&#x27;, &#x27;0&#x27;, &#x27;0&#x27;, &#x27;0&#x27;, &#x27;0&#x27;, &#x27;0&#x27;,\n",
              "       &#x27;0&#x27;, &#x27;0&#x27;, &#x27;0&#x27;, &#x27;0&#x27;, &#x27;0&#x27;, &#x27;0&#x27;, &#x27;0&#x27;, &#x27;0&#x27;, &#x27;0&#x27;], dtype=object)</pre></div></li><li class='xr-var-item'><div class='xr-var-name'><span>iid</span></div><div class='xr-var-dims'>(sample)</div><div class='xr-var-dtype'>object</div><div class='xr-var-preview xr-preview'>&#x27;HG00096&#x27; &#x27;HG00097&#x27; ... &#x27;NA20832&#x27;</div><input id='attrs-a2aff96e-c4ce-414c-bd8f-1c256fdc0276' class='xr-var-attrs-in' type='checkbox' disabled><label for='attrs-a2aff96e-c4ce-414c-bd8f-1c256fdc0276' title='Show/Hide attributes'><svg class='icon xr-icon-file-text2'><use xlink:href='#icon-file-text2'></use></svg></label><input id='data-e028ea2b-0650-4fff-8d70-9faeeb1f998a' class='xr-var-data-in' type='checkbox'><label for='data-e028ea2b-0650-4fff-8d70-9faeeb1f998a' title='Show/Hide data repr'><svg class='icon xr-icon-database'><use xlink:href='#icon-database'></use></svg></label><div class='xr-var-attrs'><dl class='xr-attrs'></dl></div><div class='xr-var-data'><pre>array([&#x27;HG00096&#x27;, &#x27;HG00097&#x27;, &#x27;HG00099&#x27;, &#x27;HG00100&#x27;, &#x27;HG00101&#x27;, &#x27;HG00102&#x27;,\n",
              "       &#x27;HG00103&#x27;, &#x27;HG00105&#x27;, &#x27;HG00106&#x27;, &#x27;HG00107&#x27;, &#x27;HG00108&#x27;, &#x27;HG00109&#x27;,\n",
              "       &#x27;HG00110&#x27;, &#x27;HG00111&#x27;, &#x27;HG00112&#x27;, &#x27;HG00113&#x27;, &#x27;HG00114&#x27;, &#x27;HG00115&#x27;,\n",
              "       &#x27;HG00116&#x27;, &#x27;HG00117&#x27;, &#x27;HG00118&#x27;, &#x27;HG00119&#x27;, &#x27;HG00120&#x27;, &#x27;HG00121&#x27;,\n",
              "       &#x27;HG00122&#x27;, &#x27;HG00123&#x27;, &#x27;HG00125&#x27;, &#x27;HG00126&#x27;, &#x27;HG00127&#x27;, &#x27;HG00128&#x27;,\n",
              "       &#x27;HG00129&#x27;, &#x27;HG00130&#x27;, &#x27;HG00131&#x27;, &#x27;HG00132&#x27;, &#x27;HG00133&#x27;, &#x27;HG00136&#x27;,\n",
              "       &#x27;HG00137&#x27;, &#x27;HG00138&#x27;, &#x27;HG00139&#x27;, &#x27;HG00140&#x27;, &#x27;HG00141&#x27;, &#x27;HG00142&#x27;,\n",
              "       &#x27;HG00143&#x27;, &#x27;HG00145&#x27;, &#x27;HG00146&#x27;, &#x27;HG00148&#x27;, &#x27;HG00149&#x27;, &#x27;HG00150&#x27;,\n",
              "       &#x27;HG00151&#x27;, &#x27;HG00154&#x27;, &#x27;HG00155&#x27;, &#x27;HG00157&#x27;, &#x27;HG00158&#x27;, &#x27;HG00159&#x27;,\n",
              "       &#x27;HG00160&#x27;, &#x27;HG00171&#x27;, &#x27;HG00173&#x27;, &#x27;HG00174&#x27;, &#x27;HG00176&#x27;, &#x27;HG00177&#x27;,\n",
              "       &#x27;HG00178&#x27;, &#x27;HG00179&#x27;, &#x27;HG00180&#x27;, &#x27;HG00181&#x27;, &#x27;HG00182&#x27;, &#x27;HG00183&#x27;,\n",
              "       &#x27;HG00185&#x27;, &#x27;HG00186&#x27;, &#x27;HG00187&#x27;, &#x27;HG00188&#x27;, &#x27;HG00189&#x27;, &#x27;HG00190&#x27;,\n",
              "       &#x27;HG00231&#x27;, &#x27;HG00232&#x27;, &#x27;HG00233&#x27;, &#x27;HG00234&#x27;, &#x27;HG00235&#x27;, &#x27;HG00236&#x27;,\n",
              "       &#x27;HG00237&#x27;, &#x27;HG00238&#x27;, &#x27;HG00239&#x27;, &#x27;HG00240&#x27;, &#x27;HG00242&#x27;, &#x27;HG00243&#x27;,\n",
              "       &#x27;HG00244&#x27;, &#x27;HG00245&#x27;, &#x27;HG00246&#x27;, &#x27;HG00250&#x27;, &#x27;HG00251&#x27;, &#x27;HG00252&#x27;,\n",
              "       &#x27;HG00253&#x27;, &#x27;HG00254&#x27;, &#x27;HG00255&#x27;, &#x27;HG00256&#x27;, &#x27;HG00257&#x27;, &#x27;HG00258&#x27;,\n",
              "       &#x27;HG00259&#x27;, &#x27;HG00260&#x27;, &#x27;HG00261&#x27;, &#x27;HG00262&#x27;, &#x27;HG00263&#x27;, &#x27;HG00264&#x27;,\n",
              "       &#x27;HG00265&#x27;, &#x27;HG00266&#x27;, &#x27;HG00267&#x27;, &#x27;HG00268&#x27;, &#x27;HG00269&#x27;, &#x27;HG00271&#x27;,\n",
              "       &#x27;HG00272&#x27;, &#x27;HG00273&#x27;, &#x27;HG00274&#x27;, &#x27;HG00275&#x27;, &#x27;HG00276&#x27;, &#x27;HG00277&#x27;,\n",
              "       &#x27;HG00278&#x27;, &#x27;HG00280&#x27;, &#x27;HG00281&#x27;, &#x27;HG00282&#x27;, &#x27;HG00284&#x27;, &#x27;HG00285&#x27;,\n",
              "...\n",
              "       &#x27;NA12872&#x27;, &#x27;NA12873&#x27;, &#x27;NA12874&#x27;, &#x27;NA12878&#x27;, &#x27;NA12889&#x27;, &#x27;NA12890&#x27;,\n",
              "       &#x27;NA20502&#x27;, &#x27;NA20503&#x27;, &#x27;NA20504&#x27;, &#x27;NA20505&#x27;, &#x27;NA20506&#x27;, &#x27;NA20507&#x27;,\n",
              "       &#x27;NA20508&#x27;, &#x27;NA20509&#x27;, &#x27;NA20510&#x27;, &#x27;NA20511&#x27;, &#x27;NA20512&#x27;, &#x27;NA20513&#x27;,\n",
              "       &#x27;NA20514&#x27;, &#x27;NA20515&#x27;, &#x27;NA20516&#x27;, &#x27;NA20517&#x27;, &#x27;NA20518&#x27;, &#x27;NA20519&#x27;,\n",
              "       &#x27;NA20520&#x27;, &#x27;NA20521&#x27;, &#x27;NA20522&#x27;, &#x27;NA20524&#x27;, &#x27;NA20525&#x27;, &#x27;NA20527&#x27;,\n",
              "       &#x27;NA20528&#x27;, &#x27;NA20529&#x27;, &#x27;NA20530&#x27;, &#x27;NA20531&#x27;, &#x27;NA20532&#x27;, &#x27;NA20533&#x27;,\n",
              "       &#x27;NA20534&#x27;, &#x27;NA20535&#x27;, &#x27;NA20536&#x27;, &#x27;NA20538&#x27;, &#x27;NA20539&#x27;, &#x27;NA20540&#x27;,\n",
              "       &#x27;NA20541&#x27;, &#x27;NA20542&#x27;, &#x27;NA20543&#x27;, &#x27;NA20544&#x27;, &#x27;NA20581&#x27;, &#x27;NA20582&#x27;,\n",
              "       &#x27;NA20585&#x27;, &#x27;NA20586&#x27;, &#x27;NA20587&#x27;, &#x27;NA20588&#x27;, &#x27;NA20589&#x27;, &#x27;NA20752&#x27;,\n",
              "       &#x27;NA20753&#x27;, &#x27;NA20754&#x27;, &#x27;NA20755&#x27;, &#x27;NA20756&#x27;, &#x27;NA20757&#x27;, &#x27;NA20758&#x27;,\n",
              "       &#x27;NA20759&#x27;, &#x27;NA20760&#x27;, &#x27;NA20761&#x27;, &#x27;NA20762&#x27;, &#x27;NA20763&#x27;, &#x27;NA20764&#x27;,\n",
              "       &#x27;NA20765&#x27;, &#x27;NA20766&#x27;, &#x27;NA20767&#x27;, &#x27;NA20768&#x27;, &#x27;NA20769&#x27;, &#x27;NA20770&#x27;,\n",
              "       &#x27;NA20771&#x27;, &#x27;NA20772&#x27;, &#x27;NA20773&#x27;, &#x27;NA20774&#x27;, &#x27;NA20775&#x27;, &#x27;NA20778&#x27;,\n",
              "       &#x27;NA20783&#x27;, &#x27;NA20785&#x27;, &#x27;NA20786&#x27;, &#x27;NA20787&#x27;, &#x27;NA20790&#x27;, &#x27;NA20792&#x27;,\n",
              "       &#x27;NA20795&#x27;, &#x27;NA20796&#x27;, &#x27;NA20797&#x27;, &#x27;NA20798&#x27;, &#x27;NA20799&#x27;, &#x27;NA20800&#x27;,\n",
              "       &#x27;NA20801&#x27;, &#x27;NA20802&#x27;, &#x27;NA20803&#x27;, &#x27;NA20804&#x27;, &#x27;NA20805&#x27;, &#x27;NA20806&#x27;,\n",
              "       &#x27;NA20807&#x27;, &#x27;NA20808&#x27;, &#x27;NA20809&#x27;, &#x27;NA20810&#x27;, &#x27;NA20811&#x27;, &#x27;NA20812&#x27;,\n",
              "       &#x27;NA20813&#x27;, &#x27;NA20814&#x27;, &#x27;NA20815&#x27;, &#x27;NA20818&#x27;, &#x27;NA20819&#x27;, &#x27;NA20821&#x27;,\n",
              "       &#x27;NA20822&#x27;, &#x27;NA20826&#x27;, &#x27;NA20827&#x27;, &#x27;NA20828&#x27;, &#x27;NA20832&#x27;],\n",
              "      dtype=object)</pre></div></li><li class='xr-var-item'><div class='xr-var-name'><span>father</span></div><div class='xr-var-dims'>(sample)</div><div class='xr-var-dtype'>object</div><div class='xr-var-preview xr-preview'>&#x27;0&#x27; &#x27;0&#x27; &#x27;0&#x27; &#x27;0&#x27; ... &#x27;0&#x27; &#x27;0&#x27; &#x27;0&#x27; &#x27;0&#x27;</div><input id='attrs-b161cb55-7404-4a49-8492-341d3369919e' class='xr-var-attrs-in' type='checkbox' disabled><label for='attrs-b161cb55-7404-4a49-8492-341d3369919e' title='Show/Hide attributes'><svg class='icon xr-icon-file-text2'><use xlink:href='#icon-file-text2'></use></svg></label><input id='data-3016c452-39e4-4c3f-a30b-90f4459bef85' class='xr-var-data-in' type='checkbox'><label for='data-3016c452-39e4-4c3f-a30b-90f4459bef85' title='Show/Hide data repr'><svg class='icon xr-icon-database'><use xlink:href='#icon-database'></use></svg></label><div class='xr-var-attrs'><dl class='xr-attrs'></dl></div><div class='xr-var-data'><pre>array([&#x27;0&#x27;, &#x27;0&#x27;, &#x27;0&#x27;, &#x27;0&#x27;, &#x27;0&#x27;, &#x27;0&#x27;, &#x27;0&#x27;, &#x27;0&#x27;, &#x27;0&#x27;, &#x27;0&#x27;, &#x27;0&#x27;, &#x27;0&#x27;, &#x27;0&#x27;,\n",
              "       &#x27;0&#x27;, &#x27;0&#x27;, &#x27;0&#x27;, &#x27;0&#x27;, &#x27;0&#x27;, &#x27;0&#x27;, &#x27;0&#x27;, &#x27;0&#x27;, &#x27;0&#x27;, &#x27;0&#x27;, &#x27;0&#x27;, &#x27;0&#x27;, &#x27;0&#x27;,\n",
              "       &#x27;0&#x27;, &#x27;0&#x27;, &#x27;0&#x27;, &#x27;0&#x27;, &#x27;0&#x27;, &#x27;0&#x27;, &#x27;0&#x27;, &#x27;0&#x27;, &#x27;0&#x27;, &#x27;0&#x27;, &#x27;0&#x27;, &#x27;0&#x27;, &#x27;0&#x27;,\n",
              "       &#x27;0&#x27;, &#x27;0&#x27;, &#x27;0&#x27;, &#x27;0&#x27;, &#x27;0&#x27;, &#x27;0&#x27;, &#x27;0&#x27;, &#x27;0&#x27;, &#x27;0&#x27;, &#x27;0&#x27;, &#x27;0&#x27;, &#x27;0&#x27;, &#x27;0&#x27;,\n",
              "       &#x27;0&#x27;, &#x27;0&#x27;, &#x27;0&#x27;, &#x27;0&#x27;, &#x27;0&#x27;, &#x27;0&#x27;, &#x27;0&#x27;, &#x27;0&#x27;, &#x27;0&#x27;, &#x27;0&#x27;, &#x27;0&#x27;, &#x27;0&#x27;, &#x27;0&#x27;,\n",
              "       &#x27;0&#x27;, &#x27;0&#x27;, &#x27;0&#x27;, &#x27;0&#x27;, &#x27;0&#x27;, &#x27;0&#x27;, &#x27;0&#x27;, &#x27;0&#x27;, &#x27;0&#x27;, &#x27;0&#x27;, &#x27;0&#x27;, &#x27;0&#x27;, &#x27;0&#x27;,\n",
              "       &#x27;0&#x27;, &#x27;0&#x27;, &#x27;0&#x27;, &#x27;0&#x27;, &#x27;0&#x27;, &#x27;0&#x27;, &#x27;0&#x27;, &#x27;0&#x27;, &#x27;0&#x27;, &#x27;0&#x27;, &#x27;0&#x27;, &#x27;0&#x27;, &#x27;0&#x27;,\n",
              "       &#x27;0&#x27;, &#x27;0&#x27;, &#x27;0&#x27;, &#x27;0&#x27;, &#x27;0&#x27;, &#x27;0&#x27;, &#x27;0&#x27;, &#x27;0&#x27;, &#x27;0&#x27;, &#x27;0&#x27;, &#x27;0&#x27;, &#x27;0&#x27;, &#x27;0&#x27;,\n",
              "       &#x27;0&#x27;, &#x27;0&#x27;, &#x27;0&#x27;, &#x27;0&#x27;, &#x27;0&#x27;, &#x27;0&#x27;, &#x27;0&#x27;, &#x27;0&#x27;, &#x27;0&#x27;, &#x27;0&#x27;, &#x27;0&#x27;, &#x27;0&#x27;, &#x27;0&#x27;,\n",
              "       &#x27;0&#x27;, &#x27;0&#x27;, &#x27;0&#x27;, &#x27;0&#x27;, &#x27;0&#x27;, &#x27;0&#x27;, &#x27;0&#x27;, &#x27;0&#x27;, &#x27;0&#x27;, &#x27;0&#x27;, &#x27;0&#x27;, &#x27;0&#x27;, &#x27;0&#x27;,\n",
              "       &#x27;0&#x27;, &#x27;0&#x27;, &#x27;0&#x27;, &#x27;0&#x27;, &#x27;0&#x27;, &#x27;0&#x27;, &#x27;0&#x27;, &#x27;0&#x27;, &#x27;0&#x27;, &#x27;0&#x27;, &#x27;0&#x27;, &#x27;0&#x27;, &#x27;0&#x27;,\n",
              "       &#x27;0&#x27;, &#x27;0&#x27;, &#x27;0&#x27;, &#x27;0&#x27;, &#x27;0&#x27;, &#x27;0&#x27;, &#x27;0&#x27;, &#x27;0&#x27;, &#x27;0&#x27;, &#x27;0&#x27;, &#x27;0&#x27;, &#x27;0&#x27;, &#x27;0&#x27;,\n",
              "       &#x27;0&#x27;, &#x27;0&#x27;, &#x27;0&#x27;, &#x27;0&#x27;, &#x27;0&#x27;, &#x27;0&#x27;, &#x27;0&#x27;, &#x27;0&#x27;, &#x27;0&#x27;, &#x27;0&#x27;, &#x27;0&#x27;, &#x27;0&#x27;, &#x27;0&#x27;,\n",
              "       &#x27;0&#x27;, &#x27;0&#x27;, &#x27;0&#x27;, &#x27;0&#x27;, &#x27;0&#x27;, &#x27;0&#x27;, &#x27;0&#x27;, &#x27;0&#x27;, &#x27;0&#x27;, &#x27;0&#x27;, &#x27;0&#x27;, &#x27;0&#x27;, &#x27;0&#x27;,\n",
              "       &#x27;0&#x27;, &#x27;0&#x27;, &#x27;0&#x27;, &#x27;0&#x27;, &#x27;0&#x27;, &#x27;0&#x27;, &#x27;0&#x27;, &#x27;0&#x27;, &#x27;0&#x27;, &#x27;0&#x27;, &#x27;0&#x27;, &#x27;0&#x27;, &#x27;0&#x27;,\n",
              "       &#x27;0&#x27;, &#x27;0&#x27;, &#x27;0&#x27;, &#x27;0&#x27;, &#x27;0&#x27;, &#x27;0&#x27;, &#x27;0&#x27;, &#x27;0&#x27;, &#x27;0&#x27;, &#x27;0&#x27;, &#x27;0&#x27;, &#x27;0&#x27;, &#x27;0&#x27;,\n",
              "       &#x27;0&#x27;, &#x27;0&#x27;, &#x27;0&#x27;, &#x27;0&#x27;, &#x27;0&#x27;, &#x27;0&#x27;, &#x27;0&#x27;, &#x27;0&#x27;, &#x27;0&#x27;, &#x27;0&#x27;, &#x27;0&#x27;, &#x27;0&#x27;, &#x27;0&#x27;,\n",
              "       &#x27;0&#x27;, &#x27;0&#x27;, &#x27;0&#x27;, &#x27;0&#x27;, &#x27;0&#x27;, &#x27;0&#x27;, &#x27;0&#x27;, &#x27;0&#x27;, &#x27;0&#x27;, &#x27;0&#x27;, &#x27;0&#x27;, &#x27;0&#x27;, &#x27;0&#x27;,\n",
              "       &#x27;0&#x27;, &#x27;0&#x27;, &#x27;0&#x27;, &#x27;0&#x27;, &#x27;0&#x27;, &#x27;0&#x27;, &#x27;0&#x27;, &#x27;0&#x27;, &#x27;0&#x27;, &#x27;0&#x27;, &#x27;0&#x27;, &#x27;0&#x27;, &#x27;0&#x27;,\n",
              "       &#x27;0&#x27;, &#x27;0&#x27;, &#x27;0&#x27;, &#x27;0&#x27;, &#x27;0&#x27;, &#x27;0&#x27;, &#x27;0&#x27;, &#x27;0&#x27;, &#x27;0&#x27;, &#x27;0&#x27;, &#x27;0&#x27;, &#x27;0&#x27;, &#x27;0&#x27;,\n",
              "       &#x27;0&#x27;, &#x27;0&#x27;, &#x27;0&#x27;, &#x27;0&#x27;, &#x27;0&#x27;, &#x27;0&#x27;, &#x27;0&#x27;, &#x27;0&#x27;, &#x27;0&#x27;, &#x27;0&#x27;, &#x27;0&#x27;, &#x27;0&#x27;, &#x27;0&#x27;,\n",
              "       &#x27;0&#x27;, &#x27;0&#x27;, &#x27;0&#x27;, &#x27;0&#x27;, &#x27;0&#x27;, &#x27;0&#x27;, &#x27;0&#x27;, &#x27;0&#x27;, &#x27;0&#x27;, &#x27;0&#x27;, &#x27;0&#x27;, &#x27;0&#x27;, &#x27;0&#x27;,\n",
              "       &#x27;0&#x27;, &#x27;0&#x27;, &#x27;0&#x27;, &#x27;0&#x27;, &#x27;0&#x27;, &#x27;0&#x27;, &#x27;0&#x27;, &#x27;0&#x27;, &#x27;0&#x27;, &#x27;0&#x27;, &#x27;0&#x27;, &#x27;0&#x27;, &#x27;0&#x27;,\n",
              "       &#x27;0&#x27;, &#x27;0&#x27;, &#x27;0&#x27;, &#x27;0&#x27;, &#x27;0&#x27;, &#x27;0&#x27;, &#x27;0&#x27;, &#x27;0&#x27;, &#x27;0&#x27;, &#x27;0&#x27;, &#x27;0&#x27;, &#x27;0&#x27;, &#x27;0&#x27;,\n",
              "       &#x27;0&#x27;, &#x27;0&#x27;, &#x27;0&#x27;, &#x27;0&#x27;, &#x27;0&#x27;, &#x27;0&#x27;, &#x27;0&#x27;, &#x27;0&#x27;, &#x27;0&#x27;, &#x27;0&#x27;, &#x27;0&#x27;, &#x27;0&#x27;, &#x27;0&#x27;,\n",
              "       &#x27;0&#x27;, &#x27;0&#x27;, &#x27;0&#x27;, &#x27;0&#x27;, &#x27;0&#x27;, &#x27;0&#x27;, &#x27;0&#x27;, &#x27;0&#x27;, &#x27;0&#x27;, &#x27;0&#x27;, &#x27;0&#x27;, &#x27;0&#x27;, &#x27;0&#x27;,\n",
              "       &#x27;0&#x27;, &#x27;0&#x27;, &#x27;0&#x27;, &#x27;0&#x27;, &#x27;0&#x27;, &#x27;0&#x27;, &#x27;0&#x27;, &#x27;0&#x27;, &#x27;0&#x27;, &#x27;0&#x27;, &#x27;0&#x27;, &#x27;0&#x27;, &#x27;0&#x27;,\n",
              "       &#x27;0&#x27;, &#x27;0&#x27;, &#x27;0&#x27;, &#x27;0&#x27;, &#x27;0&#x27;, &#x27;0&#x27;, &#x27;0&#x27;, &#x27;0&#x27;, &#x27;0&#x27;, &#x27;0&#x27;, &#x27;0&#x27;, &#x27;0&#x27;, &#x27;0&#x27;,\n",
              "       &#x27;0&#x27;, &#x27;0&#x27;, &#x27;0&#x27;, &#x27;0&#x27;, &#x27;0&#x27;, &#x27;0&#x27;, &#x27;0&#x27;, &#x27;0&#x27;, &#x27;0&#x27;, &#x27;0&#x27;, &#x27;0&#x27;, &#x27;0&#x27;, &#x27;0&#x27;,\n",
              "       &#x27;0&#x27;, &#x27;0&#x27;, &#x27;0&#x27;, &#x27;0&#x27;, &#x27;0&#x27;, &#x27;0&#x27;, &#x27;0&#x27;, &#x27;0&#x27;, &#x27;0&#x27;, &#x27;0&#x27;, &#x27;0&#x27;, &#x27;0&#x27;, &#x27;0&#x27;,\n",
              "       &#x27;0&#x27;, &#x27;0&#x27;, &#x27;0&#x27;, &#x27;0&#x27;, &#x27;0&#x27;, &#x27;0&#x27;, &#x27;0&#x27;, &#x27;0&#x27;, &#x27;0&#x27;, &#x27;0&#x27;, &#x27;0&#x27;, &#x27;0&#x27;, &#x27;0&#x27;,\n",
              "       &#x27;0&#x27;, &#x27;0&#x27;, &#x27;0&#x27;, &#x27;0&#x27;, &#x27;0&#x27;, &#x27;0&#x27;, &#x27;0&#x27;, &#x27;0&#x27;, &#x27;0&#x27;, &#x27;0&#x27;, &#x27;0&#x27;, &#x27;0&#x27;, &#x27;0&#x27;,\n",
              "       &#x27;0&#x27;, &#x27;0&#x27;, &#x27;0&#x27;, &#x27;0&#x27;, &#x27;0&#x27;, &#x27;0&#x27;, &#x27;0&#x27;, &#x27;0&#x27;, &#x27;0&#x27;, &#x27;0&#x27;, &#x27;0&#x27;, &#x27;0&#x27;, &#x27;0&#x27;,\n",
              "       &#x27;0&#x27;, &#x27;0&#x27;, &#x27;0&#x27;, &#x27;0&#x27;, &#x27;0&#x27;, &#x27;0&#x27;, &#x27;0&#x27;, &#x27;0&#x27;, &#x27;0&#x27;, &#x27;0&#x27;, &#x27;0&#x27;, &#x27;0&#x27;, &#x27;0&#x27;,\n",
              "       &#x27;0&#x27;, &#x27;0&#x27;, &#x27;0&#x27;, &#x27;0&#x27;, &#x27;0&#x27;, &#x27;0&#x27;, &#x27;0&#x27;, &#x27;0&#x27;, &#x27;0&#x27;, &#x27;0&#x27;, &#x27;0&#x27;, &#x27;0&#x27;, &#x27;0&#x27;,\n",
              "       &#x27;0&#x27;, &#x27;0&#x27;, &#x27;0&#x27;, &#x27;0&#x27;, &#x27;0&#x27;, &#x27;0&#x27;, &#x27;0&#x27;, &#x27;0&#x27;, &#x27;0&#x27;, &#x27;0&#x27;, &#x27;0&#x27;, &#x27;0&#x27;, &#x27;0&#x27;,\n",
              "       &#x27;0&#x27;, &#x27;0&#x27;, &#x27;0&#x27;, &#x27;0&#x27;, &#x27;0&#x27;, &#x27;0&#x27;, &#x27;0&#x27;, &#x27;0&#x27;, &#x27;0&#x27;, &#x27;0&#x27;, &#x27;0&#x27;, &#x27;0&#x27;, &#x27;0&#x27;,\n",
              "       &#x27;0&#x27;, &#x27;0&#x27;, &#x27;0&#x27;, &#x27;0&#x27;, &#x27;0&#x27;, &#x27;0&#x27;, &#x27;0&#x27;, &#x27;0&#x27;, &#x27;0&#x27;, &#x27;0&#x27;, &#x27;0&#x27;, &#x27;0&#x27;, &#x27;0&#x27;,\n",
              "       &#x27;0&#x27;, &#x27;0&#x27;, &#x27;0&#x27;, &#x27;0&#x27;, &#x27;0&#x27;, &#x27;0&#x27;, &#x27;0&#x27;, &#x27;0&#x27;, &#x27;0&#x27;], dtype=object)</pre></div></li><li class='xr-var-item'><div class='xr-var-name'><span>mother</span></div><div class='xr-var-dims'>(sample)</div><div class='xr-var-dtype'>object</div><div class='xr-var-preview xr-preview'>&#x27;0&#x27; &#x27;0&#x27; &#x27;0&#x27; &#x27;0&#x27; ... &#x27;0&#x27; &#x27;0&#x27; &#x27;0&#x27; &#x27;0&#x27;</div><input id='attrs-0c317778-9044-4cd4-9598-f877cdec3fd7' class='xr-var-attrs-in' type='checkbox' disabled><label for='attrs-0c317778-9044-4cd4-9598-f877cdec3fd7' title='Show/Hide attributes'><svg class='icon xr-icon-file-text2'><use xlink:href='#icon-file-text2'></use></svg></label><input id='data-a1634711-9f17-4324-b20e-d34de8322953' class='xr-var-data-in' type='checkbox'><label for='data-a1634711-9f17-4324-b20e-d34de8322953' title='Show/Hide data repr'><svg class='icon xr-icon-database'><use xlink:href='#icon-database'></use></svg></label><div class='xr-var-attrs'><dl class='xr-attrs'></dl></div><div class='xr-var-data'><pre>array([&#x27;0&#x27;, &#x27;0&#x27;, &#x27;0&#x27;, &#x27;0&#x27;, &#x27;0&#x27;, &#x27;0&#x27;, &#x27;0&#x27;, &#x27;0&#x27;, &#x27;0&#x27;, &#x27;0&#x27;, &#x27;0&#x27;, &#x27;0&#x27;, &#x27;0&#x27;,\n",
              "       &#x27;0&#x27;, &#x27;0&#x27;, &#x27;0&#x27;, &#x27;0&#x27;, &#x27;0&#x27;, &#x27;0&#x27;, &#x27;0&#x27;, &#x27;0&#x27;, &#x27;0&#x27;, &#x27;0&#x27;, &#x27;0&#x27;, &#x27;0&#x27;, &#x27;0&#x27;,\n",
              "       &#x27;0&#x27;, &#x27;0&#x27;, &#x27;0&#x27;, &#x27;0&#x27;, &#x27;0&#x27;, &#x27;0&#x27;, &#x27;0&#x27;, &#x27;0&#x27;, &#x27;0&#x27;, &#x27;0&#x27;, &#x27;0&#x27;, &#x27;0&#x27;, &#x27;0&#x27;,\n",
              "       &#x27;0&#x27;, &#x27;0&#x27;, &#x27;0&#x27;, &#x27;0&#x27;, &#x27;0&#x27;, &#x27;0&#x27;, &#x27;0&#x27;, &#x27;0&#x27;, &#x27;0&#x27;, &#x27;0&#x27;, &#x27;0&#x27;, &#x27;0&#x27;, &#x27;0&#x27;,\n",
              "       &#x27;0&#x27;, &#x27;0&#x27;, &#x27;0&#x27;, &#x27;0&#x27;, &#x27;0&#x27;, &#x27;0&#x27;, &#x27;0&#x27;, &#x27;0&#x27;, &#x27;0&#x27;, &#x27;0&#x27;, &#x27;0&#x27;, &#x27;0&#x27;, &#x27;0&#x27;,\n",
              "       &#x27;0&#x27;, &#x27;0&#x27;, &#x27;0&#x27;, &#x27;0&#x27;, &#x27;0&#x27;, &#x27;0&#x27;, &#x27;0&#x27;, &#x27;0&#x27;, &#x27;0&#x27;, &#x27;0&#x27;, &#x27;0&#x27;, &#x27;0&#x27;, &#x27;0&#x27;,\n",
              "       &#x27;0&#x27;, &#x27;0&#x27;, &#x27;0&#x27;, &#x27;0&#x27;, &#x27;0&#x27;, &#x27;0&#x27;, &#x27;0&#x27;, &#x27;0&#x27;, &#x27;0&#x27;, &#x27;0&#x27;, &#x27;0&#x27;, &#x27;0&#x27;, &#x27;0&#x27;,\n",
              "       &#x27;0&#x27;, &#x27;0&#x27;, &#x27;0&#x27;, &#x27;0&#x27;, &#x27;0&#x27;, &#x27;0&#x27;, &#x27;0&#x27;, &#x27;0&#x27;, &#x27;0&#x27;, &#x27;0&#x27;, &#x27;0&#x27;, &#x27;0&#x27;, &#x27;0&#x27;,\n",
              "       &#x27;0&#x27;, &#x27;0&#x27;, &#x27;0&#x27;, &#x27;0&#x27;, &#x27;0&#x27;, &#x27;0&#x27;, &#x27;0&#x27;, &#x27;0&#x27;, &#x27;0&#x27;, &#x27;0&#x27;, &#x27;0&#x27;, &#x27;0&#x27;, &#x27;0&#x27;,\n",
              "       &#x27;0&#x27;, &#x27;0&#x27;, &#x27;0&#x27;, &#x27;0&#x27;, &#x27;0&#x27;, &#x27;0&#x27;, &#x27;0&#x27;, &#x27;0&#x27;, &#x27;0&#x27;, &#x27;0&#x27;, &#x27;0&#x27;, &#x27;0&#x27;, &#x27;0&#x27;,\n",
              "       &#x27;0&#x27;, &#x27;0&#x27;, &#x27;0&#x27;, &#x27;0&#x27;, &#x27;0&#x27;, &#x27;0&#x27;, &#x27;0&#x27;, &#x27;0&#x27;, &#x27;0&#x27;, &#x27;0&#x27;, &#x27;0&#x27;, &#x27;0&#x27;, &#x27;0&#x27;,\n",
              "       &#x27;0&#x27;, &#x27;0&#x27;, &#x27;0&#x27;, &#x27;0&#x27;, &#x27;0&#x27;, &#x27;0&#x27;, &#x27;0&#x27;, &#x27;0&#x27;, &#x27;0&#x27;, &#x27;0&#x27;, &#x27;0&#x27;, &#x27;0&#x27;, &#x27;0&#x27;,\n",
              "       &#x27;0&#x27;, &#x27;0&#x27;, &#x27;0&#x27;, &#x27;0&#x27;, &#x27;0&#x27;, &#x27;0&#x27;, &#x27;0&#x27;, &#x27;0&#x27;, &#x27;0&#x27;, &#x27;0&#x27;, &#x27;0&#x27;, &#x27;0&#x27;, &#x27;0&#x27;,\n",
              "       &#x27;0&#x27;, &#x27;0&#x27;, &#x27;0&#x27;, &#x27;0&#x27;, &#x27;0&#x27;, &#x27;0&#x27;, &#x27;0&#x27;, &#x27;0&#x27;, &#x27;0&#x27;, &#x27;0&#x27;, &#x27;0&#x27;, &#x27;0&#x27;, &#x27;0&#x27;,\n",
              "       &#x27;0&#x27;, &#x27;0&#x27;, &#x27;0&#x27;, &#x27;0&#x27;, &#x27;0&#x27;, &#x27;0&#x27;, &#x27;0&#x27;, &#x27;0&#x27;, &#x27;0&#x27;, &#x27;0&#x27;, &#x27;0&#x27;, &#x27;0&#x27;, &#x27;0&#x27;,\n",
              "       &#x27;0&#x27;, &#x27;0&#x27;, &#x27;0&#x27;, &#x27;0&#x27;, &#x27;0&#x27;, &#x27;0&#x27;, &#x27;0&#x27;, &#x27;0&#x27;, &#x27;0&#x27;, &#x27;0&#x27;, &#x27;0&#x27;, &#x27;0&#x27;, &#x27;0&#x27;,\n",
              "       &#x27;0&#x27;, &#x27;0&#x27;, &#x27;0&#x27;, &#x27;0&#x27;, &#x27;0&#x27;, &#x27;0&#x27;, &#x27;0&#x27;, &#x27;0&#x27;, &#x27;0&#x27;, &#x27;0&#x27;, &#x27;0&#x27;, &#x27;0&#x27;, &#x27;0&#x27;,\n",
              "       &#x27;0&#x27;, &#x27;0&#x27;, &#x27;0&#x27;, &#x27;0&#x27;, &#x27;0&#x27;, &#x27;0&#x27;, &#x27;0&#x27;, &#x27;0&#x27;, &#x27;0&#x27;, &#x27;0&#x27;, &#x27;0&#x27;, &#x27;0&#x27;, &#x27;0&#x27;,\n",
              "       &#x27;0&#x27;, &#x27;0&#x27;, &#x27;0&#x27;, &#x27;0&#x27;, &#x27;0&#x27;, &#x27;0&#x27;, &#x27;0&#x27;, &#x27;0&#x27;, &#x27;0&#x27;, &#x27;0&#x27;, &#x27;0&#x27;, &#x27;0&#x27;, &#x27;0&#x27;,\n",
              "       &#x27;0&#x27;, &#x27;0&#x27;, &#x27;0&#x27;, &#x27;0&#x27;, &#x27;0&#x27;, &#x27;0&#x27;, &#x27;0&#x27;, &#x27;0&#x27;, &#x27;0&#x27;, &#x27;0&#x27;, &#x27;0&#x27;, &#x27;0&#x27;, &#x27;0&#x27;,\n",
              "       &#x27;0&#x27;, &#x27;0&#x27;, &#x27;0&#x27;, &#x27;0&#x27;, &#x27;0&#x27;, &#x27;0&#x27;, &#x27;0&#x27;, &#x27;0&#x27;, &#x27;0&#x27;, &#x27;0&#x27;, &#x27;0&#x27;, &#x27;0&#x27;, &#x27;0&#x27;,\n",
              "       &#x27;0&#x27;, &#x27;0&#x27;, &#x27;0&#x27;, &#x27;0&#x27;, &#x27;0&#x27;, &#x27;0&#x27;, &#x27;0&#x27;, &#x27;0&#x27;, &#x27;0&#x27;, &#x27;0&#x27;, &#x27;0&#x27;, &#x27;0&#x27;, &#x27;0&#x27;,\n",
              "       &#x27;0&#x27;, &#x27;0&#x27;, &#x27;0&#x27;, &#x27;0&#x27;, &#x27;0&#x27;, &#x27;0&#x27;, &#x27;0&#x27;, &#x27;0&#x27;, &#x27;0&#x27;, &#x27;0&#x27;, &#x27;0&#x27;, &#x27;0&#x27;, &#x27;0&#x27;,\n",
              "       &#x27;0&#x27;, &#x27;0&#x27;, &#x27;0&#x27;, &#x27;0&#x27;, &#x27;0&#x27;, &#x27;0&#x27;, &#x27;0&#x27;, &#x27;0&#x27;, &#x27;0&#x27;, &#x27;0&#x27;, &#x27;0&#x27;, &#x27;0&#x27;, &#x27;0&#x27;,\n",
              "       &#x27;0&#x27;, &#x27;0&#x27;, &#x27;0&#x27;, &#x27;0&#x27;, &#x27;0&#x27;, &#x27;0&#x27;, &#x27;0&#x27;, &#x27;0&#x27;, &#x27;0&#x27;, &#x27;0&#x27;, &#x27;0&#x27;, &#x27;0&#x27;, &#x27;0&#x27;,\n",
              "       &#x27;0&#x27;, &#x27;0&#x27;, &#x27;0&#x27;, &#x27;0&#x27;, &#x27;0&#x27;, &#x27;0&#x27;, &#x27;0&#x27;, &#x27;0&#x27;, &#x27;0&#x27;, &#x27;0&#x27;, &#x27;0&#x27;, &#x27;0&#x27;, &#x27;0&#x27;,\n",
              "       &#x27;0&#x27;, &#x27;0&#x27;, &#x27;0&#x27;, &#x27;0&#x27;, &#x27;0&#x27;, &#x27;0&#x27;, &#x27;0&#x27;, &#x27;0&#x27;, &#x27;0&#x27;, &#x27;0&#x27;, &#x27;0&#x27;, &#x27;0&#x27;, &#x27;0&#x27;,\n",
              "       &#x27;0&#x27;, &#x27;0&#x27;, &#x27;0&#x27;, &#x27;0&#x27;, &#x27;0&#x27;, &#x27;0&#x27;, &#x27;0&#x27;, &#x27;0&#x27;, &#x27;0&#x27;, &#x27;0&#x27;, &#x27;0&#x27;, &#x27;0&#x27;, &#x27;0&#x27;,\n",
              "       &#x27;0&#x27;, &#x27;0&#x27;, &#x27;0&#x27;, &#x27;0&#x27;, &#x27;0&#x27;, &#x27;0&#x27;, &#x27;0&#x27;, &#x27;0&#x27;, &#x27;0&#x27;, &#x27;0&#x27;, &#x27;0&#x27;, &#x27;0&#x27;, &#x27;0&#x27;,\n",
              "       &#x27;0&#x27;, &#x27;0&#x27;, &#x27;0&#x27;, &#x27;0&#x27;, &#x27;0&#x27;, &#x27;0&#x27;, &#x27;0&#x27;, &#x27;0&#x27;, &#x27;0&#x27;, &#x27;0&#x27;, &#x27;0&#x27;, &#x27;0&#x27;, &#x27;0&#x27;,\n",
              "       &#x27;0&#x27;, &#x27;0&#x27;, &#x27;0&#x27;, &#x27;0&#x27;, &#x27;0&#x27;, &#x27;0&#x27;, &#x27;0&#x27;, &#x27;0&#x27;, &#x27;0&#x27;, &#x27;0&#x27;, &#x27;0&#x27;, &#x27;0&#x27;, &#x27;0&#x27;,\n",
              "       &#x27;0&#x27;, &#x27;0&#x27;, &#x27;0&#x27;, &#x27;0&#x27;, &#x27;0&#x27;, &#x27;0&#x27;, &#x27;0&#x27;, &#x27;0&#x27;, &#x27;0&#x27;, &#x27;0&#x27;, &#x27;0&#x27;, &#x27;0&#x27;, &#x27;0&#x27;,\n",
              "       &#x27;0&#x27;, &#x27;0&#x27;, &#x27;0&#x27;, &#x27;0&#x27;, &#x27;0&#x27;, &#x27;0&#x27;, &#x27;0&#x27;, &#x27;0&#x27;, &#x27;0&#x27;, &#x27;0&#x27;, &#x27;0&#x27;, &#x27;0&#x27;, &#x27;0&#x27;,\n",
              "       &#x27;0&#x27;, &#x27;0&#x27;, &#x27;0&#x27;, &#x27;0&#x27;, &#x27;0&#x27;, &#x27;0&#x27;, &#x27;0&#x27;, &#x27;0&#x27;, &#x27;0&#x27;, &#x27;0&#x27;, &#x27;0&#x27;, &#x27;0&#x27;, &#x27;0&#x27;,\n",
              "       &#x27;0&#x27;, &#x27;0&#x27;, &#x27;0&#x27;, &#x27;0&#x27;, &#x27;0&#x27;, &#x27;0&#x27;, &#x27;0&#x27;, &#x27;0&#x27;, &#x27;0&#x27;, &#x27;0&#x27;, &#x27;0&#x27;, &#x27;0&#x27;, &#x27;0&#x27;,\n",
              "       &#x27;0&#x27;, &#x27;0&#x27;, &#x27;0&#x27;, &#x27;0&#x27;, &#x27;0&#x27;, &#x27;0&#x27;, &#x27;0&#x27;, &#x27;0&#x27;, &#x27;0&#x27;, &#x27;0&#x27;, &#x27;0&#x27;, &#x27;0&#x27;, &#x27;0&#x27;,\n",
              "       &#x27;0&#x27;, &#x27;0&#x27;, &#x27;0&#x27;, &#x27;0&#x27;, &#x27;0&#x27;, &#x27;0&#x27;, &#x27;0&#x27;, &#x27;0&#x27;, &#x27;0&#x27;, &#x27;0&#x27;, &#x27;0&#x27;, &#x27;0&#x27;, &#x27;0&#x27;,\n",
              "       &#x27;0&#x27;, &#x27;0&#x27;, &#x27;0&#x27;, &#x27;0&#x27;, &#x27;0&#x27;, &#x27;0&#x27;, &#x27;0&#x27;, &#x27;0&#x27;, &#x27;0&#x27;, &#x27;0&#x27;, &#x27;0&#x27;, &#x27;0&#x27;, &#x27;0&#x27;,\n",
              "       &#x27;0&#x27;, &#x27;0&#x27;, &#x27;0&#x27;, &#x27;0&#x27;, &#x27;0&#x27;, &#x27;0&#x27;, &#x27;0&#x27;, &#x27;0&#x27;, &#x27;0&#x27;], dtype=object)</pre></div></li><li class='xr-var-item'><div class='xr-var-name'><span>gender</span></div><div class='xr-var-dims'>(sample)</div><div class='xr-var-dtype'>object</div><div class='xr-var-preview xr-preview'>&#x27;0&#x27; &#x27;0&#x27; &#x27;0&#x27; &#x27;0&#x27; ... &#x27;0&#x27; &#x27;0&#x27; &#x27;0&#x27; &#x27;0&#x27;</div><input id='attrs-7c7fc1a1-f550-42b9-be35-3557f6c4996c' class='xr-var-attrs-in' type='checkbox' disabled><label for='attrs-7c7fc1a1-f550-42b9-be35-3557f6c4996c' title='Show/Hide attributes'><svg class='icon xr-icon-file-text2'><use xlink:href='#icon-file-text2'></use></svg></label><input id='data-a3901975-5c66-4a74-86ec-e2418ba58eee' class='xr-var-data-in' type='checkbox'><label for='data-a3901975-5c66-4a74-86ec-e2418ba58eee' title='Show/Hide data repr'><svg class='icon xr-icon-database'><use xlink:href='#icon-database'></use></svg></label><div class='xr-var-attrs'><dl class='xr-attrs'></dl></div><div class='xr-var-data'><pre>array([&#x27;0&#x27;, &#x27;0&#x27;, &#x27;0&#x27;, &#x27;0&#x27;, &#x27;0&#x27;, &#x27;0&#x27;, &#x27;0&#x27;, &#x27;0&#x27;, &#x27;0&#x27;, &#x27;0&#x27;, &#x27;0&#x27;, &#x27;0&#x27;, &#x27;0&#x27;,\n",
              "       &#x27;0&#x27;, &#x27;0&#x27;, &#x27;0&#x27;, &#x27;0&#x27;, &#x27;0&#x27;, &#x27;0&#x27;, &#x27;0&#x27;, &#x27;0&#x27;, &#x27;0&#x27;, &#x27;0&#x27;, &#x27;0&#x27;, &#x27;0&#x27;, &#x27;0&#x27;,\n",
              "       &#x27;0&#x27;, &#x27;0&#x27;, &#x27;0&#x27;, &#x27;0&#x27;, &#x27;0&#x27;, &#x27;0&#x27;, &#x27;0&#x27;, &#x27;0&#x27;, &#x27;0&#x27;, &#x27;0&#x27;, &#x27;0&#x27;, &#x27;0&#x27;, &#x27;0&#x27;,\n",
              "       &#x27;0&#x27;, &#x27;0&#x27;, &#x27;0&#x27;, &#x27;0&#x27;, &#x27;0&#x27;, &#x27;0&#x27;, &#x27;0&#x27;, &#x27;0&#x27;, &#x27;0&#x27;, &#x27;0&#x27;, &#x27;0&#x27;, &#x27;0&#x27;, &#x27;0&#x27;,\n",
              "       &#x27;0&#x27;, &#x27;0&#x27;, &#x27;0&#x27;, &#x27;0&#x27;, &#x27;0&#x27;, &#x27;0&#x27;, &#x27;0&#x27;, &#x27;0&#x27;, &#x27;0&#x27;, &#x27;0&#x27;, &#x27;0&#x27;, &#x27;0&#x27;, &#x27;0&#x27;,\n",
              "       &#x27;0&#x27;, &#x27;0&#x27;, &#x27;0&#x27;, &#x27;0&#x27;, &#x27;0&#x27;, &#x27;0&#x27;, &#x27;0&#x27;, &#x27;0&#x27;, &#x27;0&#x27;, &#x27;0&#x27;, &#x27;0&#x27;, &#x27;0&#x27;, &#x27;0&#x27;,\n",
              "       &#x27;0&#x27;, &#x27;0&#x27;, &#x27;0&#x27;, &#x27;0&#x27;, &#x27;0&#x27;, &#x27;0&#x27;, &#x27;0&#x27;, &#x27;0&#x27;, &#x27;0&#x27;, &#x27;0&#x27;, &#x27;0&#x27;, &#x27;0&#x27;, &#x27;0&#x27;,\n",
              "       &#x27;0&#x27;, &#x27;0&#x27;, &#x27;0&#x27;, &#x27;0&#x27;, &#x27;0&#x27;, &#x27;0&#x27;, &#x27;0&#x27;, &#x27;0&#x27;, &#x27;0&#x27;, &#x27;0&#x27;, &#x27;0&#x27;, &#x27;0&#x27;, &#x27;0&#x27;,\n",
              "       &#x27;0&#x27;, &#x27;0&#x27;, &#x27;0&#x27;, &#x27;0&#x27;, &#x27;0&#x27;, &#x27;0&#x27;, &#x27;0&#x27;, &#x27;0&#x27;, &#x27;0&#x27;, &#x27;0&#x27;, &#x27;0&#x27;, &#x27;0&#x27;, &#x27;0&#x27;,\n",
              "       &#x27;0&#x27;, &#x27;0&#x27;, &#x27;0&#x27;, &#x27;0&#x27;, &#x27;0&#x27;, &#x27;0&#x27;, &#x27;0&#x27;, &#x27;0&#x27;, &#x27;0&#x27;, &#x27;0&#x27;, &#x27;0&#x27;, &#x27;0&#x27;, &#x27;0&#x27;,\n",
              "       &#x27;0&#x27;, &#x27;0&#x27;, &#x27;0&#x27;, &#x27;0&#x27;, &#x27;0&#x27;, &#x27;0&#x27;, &#x27;0&#x27;, &#x27;0&#x27;, &#x27;0&#x27;, &#x27;0&#x27;, &#x27;0&#x27;, &#x27;0&#x27;, &#x27;0&#x27;,\n",
              "       &#x27;0&#x27;, &#x27;0&#x27;, &#x27;0&#x27;, &#x27;0&#x27;, &#x27;0&#x27;, &#x27;0&#x27;, &#x27;0&#x27;, &#x27;0&#x27;, &#x27;0&#x27;, &#x27;0&#x27;, &#x27;0&#x27;, &#x27;0&#x27;, &#x27;0&#x27;,\n",
              "       &#x27;0&#x27;, &#x27;0&#x27;, &#x27;0&#x27;, &#x27;0&#x27;, &#x27;0&#x27;, &#x27;0&#x27;, &#x27;0&#x27;, &#x27;0&#x27;, &#x27;0&#x27;, &#x27;0&#x27;, &#x27;0&#x27;, &#x27;0&#x27;, &#x27;0&#x27;,\n",
              "       &#x27;0&#x27;, &#x27;0&#x27;, &#x27;0&#x27;, &#x27;0&#x27;, &#x27;0&#x27;, &#x27;0&#x27;, &#x27;0&#x27;, &#x27;0&#x27;, &#x27;0&#x27;, &#x27;0&#x27;, &#x27;0&#x27;, &#x27;0&#x27;, &#x27;0&#x27;,\n",
              "       &#x27;0&#x27;, &#x27;0&#x27;, &#x27;0&#x27;, &#x27;0&#x27;, &#x27;0&#x27;, &#x27;0&#x27;, &#x27;0&#x27;, &#x27;0&#x27;, &#x27;0&#x27;, &#x27;0&#x27;, &#x27;0&#x27;, &#x27;0&#x27;, &#x27;0&#x27;,\n",
              "       &#x27;0&#x27;, &#x27;0&#x27;, &#x27;0&#x27;, &#x27;0&#x27;, &#x27;0&#x27;, &#x27;0&#x27;, &#x27;0&#x27;, &#x27;0&#x27;, &#x27;0&#x27;, &#x27;0&#x27;, &#x27;0&#x27;, &#x27;0&#x27;, &#x27;0&#x27;,\n",
              "       &#x27;0&#x27;, &#x27;0&#x27;, &#x27;0&#x27;, &#x27;0&#x27;, &#x27;0&#x27;, &#x27;0&#x27;, &#x27;0&#x27;, &#x27;0&#x27;, &#x27;0&#x27;, &#x27;0&#x27;, &#x27;0&#x27;, &#x27;0&#x27;, &#x27;0&#x27;,\n",
              "       &#x27;0&#x27;, &#x27;0&#x27;, &#x27;0&#x27;, &#x27;0&#x27;, &#x27;0&#x27;, &#x27;0&#x27;, &#x27;0&#x27;, &#x27;0&#x27;, &#x27;0&#x27;, &#x27;0&#x27;, &#x27;0&#x27;, &#x27;0&#x27;, &#x27;0&#x27;,\n",
              "       &#x27;0&#x27;, &#x27;0&#x27;, &#x27;0&#x27;, &#x27;0&#x27;, &#x27;0&#x27;, &#x27;0&#x27;, &#x27;0&#x27;, &#x27;0&#x27;, &#x27;0&#x27;, &#x27;0&#x27;, &#x27;0&#x27;, &#x27;0&#x27;, &#x27;0&#x27;,\n",
              "       &#x27;0&#x27;, &#x27;0&#x27;, &#x27;0&#x27;, &#x27;0&#x27;, &#x27;0&#x27;, &#x27;0&#x27;, &#x27;0&#x27;, &#x27;0&#x27;, &#x27;0&#x27;, &#x27;0&#x27;, &#x27;0&#x27;, &#x27;0&#x27;, &#x27;0&#x27;,\n",
              "       &#x27;0&#x27;, &#x27;0&#x27;, &#x27;0&#x27;, &#x27;0&#x27;, &#x27;0&#x27;, &#x27;0&#x27;, &#x27;0&#x27;, &#x27;0&#x27;, &#x27;0&#x27;, &#x27;0&#x27;, &#x27;0&#x27;, &#x27;0&#x27;, &#x27;0&#x27;,\n",
              "       &#x27;0&#x27;, &#x27;0&#x27;, &#x27;0&#x27;, &#x27;0&#x27;, &#x27;0&#x27;, &#x27;0&#x27;, &#x27;0&#x27;, &#x27;0&#x27;, &#x27;0&#x27;, &#x27;0&#x27;, &#x27;0&#x27;, &#x27;0&#x27;, &#x27;0&#x27;,\n",
              "       &#x27;0&#x27;, &#x27;0&#x27;, &#x27;0&#x27;, &#x27;0&#x27;, &#x27;0&#x27;, &#x27;0&#x27;, &#x27;0&#x27;, &#x27;0&#x27;, &#x27;0&#x27;, &#x27;0&#x27;, &#x27;0&#x27;, &#x27;0&#x27;, &#x27;0&#x27;,\n",
              "       &#x27;0&#x27;, &#x27;0&#x27;, &#x27;0&#x27;, &#x27;0&#x27;, &#x27;0&#x27;, &#x27;0&#x27;, &#x27;0&#x27;, &#x27;0&#x27;, &#x27;0&#x27;, &#x27;0&#x27;, &#x27;0&#x27;, &#x27;0&#x27;, &#x27;0&#x27;,\n",
              "       &#x27;0&#x27;, &#x27;0&#x27;, &#x27;0&#x27;, &#x27;0&#x27;, &#x27;0&#x27;, &#x27;0&#x27;, &#x27;0&#x27;, &#x27;0&#x27;, &#x27;0&#x27;, &#x27;0&#x27;, &#x27;0&#x27;, &#x27;0&#x27;, &#x27;0&#x27;,\n",
              "       &#x27;0&#x27;, &#x27;0&#x27;, &#x27;0&#x27;, &#x27;0&#x27;, &#x27;0&#x27;, &#x27;0&#x27;, &#x27;0&#x27;, &#x27;0&#x27;, &#x27;0&#x27;, &#x27;0&#x27;, &#x27;0&#x27;, &#x27;0&#x27;, &#x27;0&#x27;,\n",
              "       &#x27;0&#x27;, &#x27;0&#x27;, &#x27;0&#x27;, &#x27;0&#x27;, &#x27;0&#x27;, &#x27;0&#x27;, &#x27;0&#x27;, &#x27;0&#x27;, &#x27;0&#x27;, &#x27;0&#x27;, &#x27;0&#x27;, &#x27;0&#x27;, &#x27;0&#x27;,\n",
              "       &#x27;0&#x27;, &#x27;0&#x27;, &#x27;0&#x27;, &#x27;0&#x27;, &#x27;0&#x27;, &#x27;0&#x27;, &#x27;0&#x27;, &#x27;0&#x27;, &#x27;0&#x27;, &#x27;0&#x27;, &#x27;0&#x27;, &#x27;0&#x27;, &#x27;0&#x27;,\n",
              "       &#x27;0&#x27;, &#x27;0&#x27;, &#x27;0&#x27;, &#x27;0&#x27;, &#x27;0&#x27;, &#x27;0&#x27;, &#x27;0&#x27;, &#x27;0&#x27;, &#x27;0&#x27;, &#x27;0&#x27;, &#x27;0&#x27;, &#x27;0&#x27;, &#x27;0&#x27;,\n",
              "       &#x27;0&#x27;, &#x27;0&#x27;, &#x27;0&#x27;, &#x27;0&#x27;, &#x27;0&#x27;, &#x27;0&#x27;, &#x27;0&#x27;, &#x27;0&#x27;, &#x27;0&#x27;, &#x27;0&#x27;, &#x27;0&#x27;, &#x27;0&#x27;, &#x27;0&#x27;,\n",
              "       &#x27;0&#x27;, &#x27;0&#x27;, &#x27;0&#x27;, &#x27;0&#x27;, &#x27;0&#x27;, &#x27;0&#x27;, &#x27;0&#x27;, &#x27;0&#x27;, &#x27;0&#x27;, &#x27;0&#x27;, &#x27;0&#x27;, &#x27;0&#x27;, &#x27;0&#x27;,\n",
              "       &#x27;0&#x27;, &#x27;0&#x27;, &#x27;0&#x27;, &#x27;0&#x27;, &#x27;0&#x27;, &#x27;0&#x27;, &#x27;0&#x27;, &#x27;0&#x27;, &#x27;0&#x27;, &#x27;0&#x27;, &#x27;0&#x27;, &#x27;0&#x27;, &#x27;0&#x27;,\n",
              "       &#x27;0&#x27;, &#x27;0&#x27;, &#x27;0&#x27;, &#x27;0&#x27;, &#x27;0&#x27;, &#x27;0&#x27;, &#x27;0&#x27;, &#x27;0&#x27;, &#x27;0&#x27;, &#x27;0&#x27;, &#x27;0&#x27;, &#x27;0&#x27;, &#x27;0&#x27;,\n",
              "       &#x27;0&#x27;, &#x27;0&#x27;, &#x27;0&#x27;, &#x27;0&#x27;, &#x27;0&#x27;, &#x27;0&#x27;, &#x27;0&#x27;, &#x27;0&#x27;, &#x27;0&#x27;, &#x27;0&#x27;, &#x27;0&#x27;, &#x27;0&#x27;, &#x27;0&#x27;,\n",
              "       &#x27;0&#x27;, &#x27;0&#x27;, &#x27;0&#x27;, &#x27;0&#x27;, &#x27;0&#x27;, &#x27;0&#x27;, &#x27;0&#x27;, &#x27;0&#x27;, &#x27;0&#x27;, &#x27;0&#x27;, &#x27;0&#x27;, &#x27;0&#x27;, &#x27;0&#x27;,\n",
              "       &#x27;0&#x27;, &#x27;0&#x27;, &#x27;0&#x27;, &#x27;0&#x27;, &#x27;0&#x27;, &#x27;0&#x27;, &#x27;0&#x27;, &#x27;0&#x27;, &#x27;0&#x27;, &#x27;0&#x27;, &#x27;0&#x27;, &#x27;0&#x27;, &#x27;0&#x27;,\n",
              "       &#x27;0&#x27;, &#x27;0&#x27;, &#x27;0&#x27;, &#x27;0&#x27;, &#x27;0&#x27;, &#x27;0&#x27;, &#x27;0&#x27;, &#x27;0&#x27;, &#x27;0&#x27;, &#x27;0&#x27;, &#x27;0&#x27;, &#x27;0&#x27;, &#x27;0&#x27;,\n",
              "       &#x27;0&#x27;, &#x27;0&#x27;, &#x27;0&#x27;, &#x27;0&#x27;, &#x27;0&#x27;, &#x27;0&#x27;, &#x27;0&#x27;, &#x27;0&#x27;, &#x27;0&#x27;, &#x27;0&#x27;, &#x27;0&#x27;, &#x27;0&#x27;, &#x27;0&#x27;,\n",
              "       &#x27;0&#x27;, &#x27;0&#x27;, &#x27;0&#x27;, &#x27;0&#x27;, &#x27;0&#x27;, &#x27;0&#x27;, &#x27;0&#x27;, &#x27;0&#x27;, &#x27;0&#x27;], dtype=object)</pre></div></li><li class='xr-var-item'><div class='xr-var-name'><span>trait</span></div><div class='xr-var-dims'>(sample)</div><div class='xr-var-dtype'>object</div><div class='xr-var-preview xr-preview'>&#x27;-9&#x27; &#x27;-9&#x27; &#x27;-9&#x27; ... &#x27;-9&#x27; &#x27;-9&#x27; &#x27;-9&#x27;</div><input id='attrs-977d80a7-ba3c-4982-a768-049145f6e8c8' class='xr-var-attrs-in' type='checkbox' disabled><label for='attrs-977d80a7-ba3c-4982-a768-049145f6e8c8' title='Show/Hide attributes'><svg class='icon xr-icon-file-text2'><use xlink:href='#icon-file-text2'></use></svg></label><input id='data-6a0c6684-6cd8-4a60-a47b-c752cb7728e8' class='xr-var-data-in' type='checkbox'><label for='data-6a0c6684-6cd8-4a60-a47b-c752cb7728e8' title='Show/Hide data repr'><svg class='icon xr-icon-database'><use xlink:href='#icon-database'></use></svg></label><div class='xr-var-attrs'><dl class='xr-attrs'></dl></div><div class='xr-var-data'><pre>array([&#x27;-9&#x27;, &#x27;-9&#x27;, &#x27;-9&#x27;, &#x27;-9&#x27;, &#x27;-9&#x27;, &#x27;-9&#x27;, &#x27;-9&#x27;, &#x27;-9&#x27;, &#x27;-9&#x27;, &#x27;-9&#x27;, &#x27;-9&#x27;,\n",
              "       &#x27;-9&#x27;, &#x27;-9&#x27;, &#x27;-9&#x27;, &#x27;-9&#x27;, &#x27;-9&#x27;, &#x27;-9&#x27;, &#x27;-9&#x27;, &#x27;-9&#x27;, &#x27;-9&#x27;, &#x27;-9&#x27;, &#x27;-9&#x27;,\n",
              "       &#x27;-9&#x27;, &#x27;-9&#x27;, &#x27;-9&#x27;, &#x27;-9&#x27;, &#x27;-9&#x27;, &#x27;-9&#x27;, &#x27;-9&#x27;, &#x27;-9&#x27;, &#x27;-9&#x27;, &#x27;-9&#x27;, &#x27;-9&#x27;,\n",
              "       &#x27;-9&#x27;, &#x27;-9&#x27;, &#x27;-9&#x27;, &#x27;-9&#x27;, &#x27;-9&#x27;, &#x27;-9&#x27;, &#x27;-9&#x27;, &#x27;-9&#x27;, &#x27;-9&#x27;, &#x27;-9&#x27;, &#x27;-9&#x27;,\n",
              "       &#x27;-9&#x27;, &#x27;-9&#x27;, &#x27;-9&#x27;, &#x27;-9&#x27;, &#x27;-9&#x27;, &#x27;-9&#x27;, &#x27;-9&#x27;, &#x27;-9&#x27;, &#x27;-9&#x27;, &#x27;-9&#x27;, &#x27;-9&#x27;,\n",
              "       &#x27;-9&#x27;, &#x27;-9&#x27;, &#x27;-9&#x27;, &#x27;-9&#x27;, &#x27;-9&#x27;, &#x27;-9&#x27;, &#x27;-9&#x27;, &#x27;-9&#x27;, &#x27;-9&#x27;, &#x27;-9&#x27;, &#x27;-9&#x27;,\n",
              "       &#x27;-9&#x27;, &#x27;-9&#x27;, &#x27;-9&#x27;, &#x27;-9&#x27;, &#x27;-9&#x27;, &#x27;-9&#x27;, &#x27;-9&#x27;, &#x27;-9&#x27;, &#x27;-9&#x27;, &#x27;-9&#x27;, &#x27;-9&#x27;,\n",
              "       &#x27;-9&#x27;, &#x27;-9&#x27;, &#x27;-9&#x27;, &#x27;-9&#x27;, &#x27;-9&#x27;, &#x27;-9&#x27;, &#x27;-9&#x27;, &#x27;-9&#x27;, &#x27;-9&#x27;, &#x27;-9&#x27;, &#x27;-9&#x27;,\n",
              "       &#x27;-9&#x27;, &#x27;-9&#x27;, &#x27;-9&#x27;, &#x27;-9&#x27;, &#x27;-9&#x27;, &#x27;-9&#x27;, &#x27;-9&#x27;, &#x27;-9&#x27;, &#x27;-9&#x27;, &#x27;-9&#x27;, &#x27;-9&#x27;,\n",
              "       &#x27;-9&#x27;, &#x27;-9&#x27;, &#x27;-9&#x27;, &#x27;-9&#x27;, &#x27;-9&#x27;, &#x27;-9&#x27;, &#x27;-9&#x27;, &#x27;-9&#x27;, &#x27;-9&#x27;, &#x27;-9&#x27;, &#x27;-9&#x27;,\n",
              "       &#x27;-9&#x27;, &#x27;-9&#x27;, &#x27;-9&#x27;, &#x27;-9&#x27;, &#x27;-9&#x27;, &#x27;-9&#x27;, &#x27;-9&#x27;, &#x27;-9&#x27;, &#x27;-9&#x27;, &#x27;-9&#x27;, &#x27;-9&#x27;,\n",
              "       &#x27;-9&#x27;, &#x27;-9&#x27;, &#x27;-9&#x27;, &#x27;-9&#x27;, &#x27;-9&#x27;, &#x27;-9&#x27;, &#x27;-9&#x27;, &#x27;-9&#x27;, &#x27;-9&#x27;, &#x27;-9&#x27;, &#x27;-9&#x27;,\n",
              "       &#x27;-9&#x27;, &#x27;-9&#x27;, &#x27;-9&#x27;, &#x27;-9&#x27;, &#x27;-9&#x27;, &#x27;-9&#x27;, &#x27;-9&#x27;, &#x27;-9&#x27;, &#x27;-9&#x27;, &#x27;-9&#x27;, &#x27;-9&#x27;,\n",
              "       &#x27;-9&#x27;, &#x27;-9&#x27;, &#x27;-9&#x27;, &#x27;-9&#x27;, &#x27;-9&#x27;, &#x27;-9&#x27;, &#x27;-9&#x27;, &#x27;-9&#x27;, &#x27;-9&#x27;, &#x27;-9&#x27;, &#x27;-9&#x27;,\n",
              "       &#x27;-9&#x27;, &#x27;-9&#x27;, &#x27;-9&#x27;, &#x27;-9&#x27;, &#x27;-9&#x27;, &#x27;-9&#x27;, &#x27;-9&#x27;, &#x27;-9&#x27;, &#x27;-9&#x27;, &#x27;-9&#x27;, &#x27;-9&#x27;,\n",
              "       &#x27;-9&#x27;, &#x27;-9&#x27;, &#x27;-9&#x27;, &#x27;-9&#x27;, &#x27;-9&#x27;, &#x27;-9&#x27;, &#x27;-9&#x27;, &#x27;-9&#x27;, &#x27;-9&#x27;, &#x27;-9&#x27;, &#x27;-9&#x27;,\n",
              "       &#x27;-9&#x27;, &#x27;-9&#x27;, &#x27;-9&#x27;, &#x27;-9&#x27;, &#x27;-9&#x27;, &#x27;-9&#x27;, &#x27;-9&#x27;, &#x27;-9&#x27;, &#x27;-9&#x27;, &#x27;-9&#x27;, &#x27;-9&#x27;,\n",
              "       &#x27;-9&#x27;, &#x27;-9&#x27;, &#x27;-9&#x27;, &#x27;-9&#x27;, &#x27;-9&#x27;, &#x27;-9&#x27;, &#x27;-9&#x27;, &#x27;-9&#x27;, &#x27;-9&#x27;, &#x27;-9&#x27;, &#x27;-9&#x27;,\n",
              "       &#x27;-9&#x27;, &#x27;-9&#x27;, &#x27;-9&#x27;, &#x27;-9&#x27;, &#x27;-9&#x27;, &#x27;-9&#x27;, &#x27;-9&#x27;, &#x27;-9&#x27;, &#x27;-9&#x27;, &#x27;-9&#x27;, &#x27;-9&#x27;,\n",
              "       &#x27;-9&#x27;, &#x27;-9&#x27;, &#x27;-9&#x27;, &#x27;-9&#x27;, &#x27;-9&#x27;, &#x27;-9&#x27;, &#x27;-9&#x27;, &#x27;-9&#x27;, &#x27;-9&#x27;, &#x27;-9&#x27;, &#x27;-9&#x27;,\n",
              "...\n",
              "       &#x27;-9&#x27;, &#x27;-9&#x27;, &#x27;-9&#x27;, &#x27;-9&#x27;, &#x27;-9&#x27;, &#x27;-9&#x27;, &#x27;-9&#x27;, &#x27;-9&#x27;, &#x27;-9&#x27;, &#x27;-9&#x27;, &#x27;-9&#x27;,\n",
              "       &#x27;-9&#x27;, &#x27;-9&#x27;, &#x27;-9&#x27;, &#x27;-9&#x27;, &#x27;-9&#x27;, &#x27;-9&#x27;, &#x27;-9&#x27;, &#x27;-9&#x27;, &#x27;-9&#x27;, &#x27;-9&#x27;, &#x27;-9&#x27;,\n",
              "       &#x27;-9&#x27;, &#x27;-9&#x27;, &#x27;-9&#x27;, &#x27;-9&#x27;, &#x27;-9&#x27;, &#x27;-9&#x27;, &#x27;-9&#x27;, &#x27;-9&#x27;, &#x27;-9&#x27;, &#x27;-9&#x27;, &#x27;-9&#x27;,\n",
              "       &#x27;-9&#x27;, &#x27;-9&#x27;, &#x27;-9&#x27;, &#x27;-9&#x27;, &#x27;-9&#x27;, &#x27;-9&#x27;, &#x27;-9&#x27;, &#x27;-9&#x27;, &#x27;-9&#x27;, &#x27;-9&#x27;, &#x27;-9&#x27;,\n",
              "       &#x27;-9&#x27;, &#x27;-9&#x27;, &#x27;-9&#x27;, &#x27;-9&#x27;, &#x27;-9&#x27;, &#x27;-9&#x27;, &#x27;-9&#x27;, &#x27;-9&#x27;, &#x27;-9&#x27;, &#x27;-9&#x27;, &#x27;-9&#x27;,\n",
              "       &#x27;-9&#x27;, &#x27;-9&#x27;, &#x27;-9&#x27;, &#x27;-9&#x27;, &#x27;-9&#x27;, &#x27;-9&#x27;, &#x27;-9&#x27;, &#x27;-9&#x27;, &#x27;-9&#x27;, &#x27;-9&#x27;, &#x27;-9&#x27;,\n",
              "       &#x27;-9&#x27;, &#x27;-9&#x27;, &#x27;-9&#x27;, &#x27;-9&#x27;, &#x27;-9&#x27;, &#x27;-9&#x27;, &#x27;-9&#x27;, &#x27;-9&#x27;, &#x27;-9&#x27;, &#x27;-9&#x27;, &#x27;-9&#x27;,\n",
              "       &#x27;-9&#x27;, &#x27;-9&#x27;, &#x27;-9&#x27;, &#x27;-9&#x27;, &#x27;-9&#x27;, &#x27;-9&#x27;, &#x27;-9&#x27;, &#x27;-9&#x27;, &#x27;-9&#x27;, &#x27;-9&#x27;, &#x27;-9&#x27;,\n",
              "       &#x27;-9&#x27;, &#x27;-9&#x27;, &#x27;-9&#x27;, &#x27;-9&#x27;, &#x27;-9&#x27;, &#x27;-9&#x27;, &#x27;-9&#x27;, &#x27;-9&#x27;, &#x27;-9&#x27;, &#x27;-9&#x27;, &#x27;-9&#x27;,\n",
              "       &#x27;-9&#x27;, &#x27;-9&#x27;, &#x27;-9&#x27;, &#x27;-9&#x27;, &#x27;-9&#x27;, &#x27;-9&#x27;, &#x27;-9&#x27;, &#x27;-9&#x27;, &#x27;-9&#x27;, &#x27;-9&#x27;, &#x27;-9&#x27;,\n",
              "       &#x27;-9&#x27;, &#x27;-9&#x27;, &#x27;-9&#x27;, &#x27;-9&#x27;, &#x27;-9&#x27;, &#x27;-9&#x27;, &#x27;-9&#x27;, &#x27;-9&#x27;, &#x27;-9&#x27;, &#x27;-9&#x27;, &#x27;-9&#x27;,\n",
              "       &#x27;-9&#x27;, &#x27;-9&#x27;, &#x27;-9&#x27;, &#x27;-9&#x27;, &#x27;-9&#x27;, &#x27;-9&#x27;, &#x27;-9&#x27;, &#x27;-9&#x27;, &#x27;-9&#x27;, &#x27;-9&#x27;, &#x27;-9&#x27;,\n",
              "       &#x27;-9&#x27;, &#x27;-9&#x27;, &#x27;-9&#x27;, &#x27;-9&#x27;, &#x27;-9&#x27;, &#x27;-9&#x27;, &#x27;-9&#x27;, &#x27;-9&#x27;, &#x27;-9&#x27;, &#x27;-9&#x27;, &#x27;-9&#x27;,\n",
              "       &#x27;-9&#x27;, &#x27;-9&#x27;, &#x27;-9&#x27;, &#x27;-9&#x27;, &#x27;-9&#x27;, &#x27;-9&#x27;, &#x27;-9&#x27;, &#x27;-9&#x27;, &#x27;-9&#x27;, &#x27;-9&#x27;, &#x27;-9&#x27;,\n",
              "       &#x27;-9&#x27;, &#x27;-9&#x27;, &#x27;-9&#x27;, &#x27;-9&#x27;, &#x27;-9&#x27;, &#x27;-9&#x27;, &#x27;-9&#x27;, &#x27;-9&#x27;, &#x27;-9&#x27;, &#x27;-9&#x27;, &#x27;-9&#x27;,\n",
              "       &#x27;-9&#x27;, &#x27;-9&#x27;, &#x27;-9&#x27;, &#x27;-9&#x27;, &#x27;-9&#x27;, &#x27;-9&#x27;, &#x27;-9&#x27;, &#x27;-9&#x27;, &#x27;-9&#x27;, &#x27;-9&#x27;, &#x27;-9&#x27;,\n",
              "       &#x27;-9&#x27;, &#x27;-9&#x27;, &#x27;-9&#x27;, &#x27;-9&#x27;, &#x27;-9&#x27;, &#x27;-9&#x27;, &#x27;-9&#x27;, &#x27;-9&#x27;, &#x27;-9&#x27;, &#x27;-9&#x27;, &#x27;-9&#x27;,\n",
              "       &#x27;-9&#x27;, &#x27;-9&#x27;, &#x27;-9&#x27;, &#x27;-9&#x27;, &#x27;-9&#x27;, &#x27;-9&#x27;, &#x27;-9&#x27;, &#x27;-9&#x27;, &#x27;-9&#x27;, &#x27;-9&#x27;, &#x27;-9&#x27;,\n",
              "       &#x27;-9&#x27;, &#x27;-9&#x27;, &#x27;-9&#x27;, &#x27;-9&#x27;, &#x27;-9&#x27;, &#x27;-9&#x27;, &#x27;-9&#x27;, &#x27;-9&#x27;, &#x27;-9&#x27;, &#x27;-9&#x27;, &#x27;-9&#x27;,\n",
              "       &#x27;-9&#x27;, &#x27;-9&#x27;, &#x27;-9&#x27;, &#x27;-9&#x27;, &#x27;-9&#x27;, &#x27;-9&#x27;, &#x27;-9&#x27;, &#x27;-9&#x27;], dtype=object)</pre></div></li><li class='xr-var-item'><div class='xr-var-name'><span>chrom</span></div><div class='xr-var-dims'>(variant)</div><div class='xr-var-dtype'>object</div><div class='xr-var-preview xr-preview'>&#x27;22&#x27; &#x27;22&#x27; &#x27;22&#x27; ... &#x27;22&#x27; &#x27;22&#x27; &#x27;22&#x27;</div><input id='attrs-8507f271-ab36-496b-812f-10db4922488f' class='xr-var-attrs-in' type='checkbox' disabled><label for='attrs-8507f271-ab36-496b-812f-10db4922488f' title='Show/Hide attributes'><svg class='icon xr-icon-file-text2'><use xlink:href='#icon-file-text2'></use></svg></label><input id='data-ddf91c10-98d7-4e51-9ef7-e2fa68b8d946' class='xr-var-data-in' type='checkbox'><label for='data-ddf91c10-98d7-4e51-9ef7-e2fa68b8d946' title='Show/Hide data repr'><svg class='icon xr-icon-database'><use xlink:href='#icon-database'></use></svg></label><div class='xr-var-attrs'><dl class='xr-attrs'></dl></div><div class='xr-var-data'><pre>array([&#x27;22&#x27;, &#x27;22&#x27;, &#x27;22&#x27;, ..., &#x27;22&#x27;, &#x27;22&#x27;, &#x27;22&#x27;], dtype=object)</pre></div></li><li class='xr-var-item'><div class='xr-var-name'><span>snp</span></div><div class='xr-var-dims'>(variant)</div><div class='xr-var-dtype'>object</div><div class='xr-var-preview xr-preview'>&#x27;rs62224609&#x27; ... &#x27;rs370652263&#x27;</div><input id='attrs-9769e099-160c-4d25-85ca-89d7bf7d7a57' class='xr-var-attrs-in' type='checkbox' disabled><label for='attrs-9769e099-160c-4d25-85ca-89d7bf7d7a57' title='Show/Hide attributes'><svg class='icon xr-icon-file-text2'><use xlink:href='#icon-file-text2'></use></svg></label><input id='data-16e0a714-6f66-4c74-8f38-6a32677912f4' class='xr-var-data-in' type='checkbox'><label for='data-16e0a714-6f66-4c74-8f38-6a32677912f4' title='Show/Hide data repr'><svg class='icon xr-icon-database'><use xlink:href='#icon-database'></use></svg></label><div class='xr-var-attrs'><dl class='xr-attrs'></dl></div><div class='xr-var-data'><pre>array([&#x27;rs62224609&#x27;, &#x27;rs4965031&#x27;, &#x27;rs376238049&#x27;, ..., &#x27;rs62240045&#x27;,\n",
              "       &#x27;rs3896457&#x27;, &#x27;rs370652263&#x27;], dtype=object)</pre></div></li><li class='xr-var-item'><div class='xr-var-name'><span>cm</span></div><div class='xr-var-dims'>(variant)</div><div class='xr-var-dtype'>float64</div><div class='xr-var-preview xr-preview'>0.0 0.0 0.0 0.0 ... 0.0 0.0 0.0 0.0</div><input id='attrs-82ce45d2-3fd0-4aeb-97de-46fe332ed5d9' class='xr-var-attrs-in' type='checkbox' disabled><label for='attrs-82ce45d2-3fd0-4aeb-97de-46fe332ed5d9' title='Show/Hide attributes'><svg class='icon xr-icon-file-text2'><use xlink:href='#icon-file-text2'></use></svg></label><input id='data-2d30fde5-7844-4574-b84b-0789c3df33b2' class='xr-var-data-in' type='checkbox'><label for='data-2d30fde5-7844-4574-b84b-0789c3df33b2' title='Show/Hide data repr'><svg class='icon xr-icon-database'><use xlink:href='#icon-database'></use></svg></label><div class='xr-var-attrs'><dl class='xr-attrs'></dl></div><div class='xr-var-data'><pre>array([0., 0., 0., ..., 0., 0., 0.])</pre></div></li><li class='xr-var-item'><div class='xr-var-name'><span>pos</span></div><div class='xr-var-dims'>(variant)</div><div class='xr-var-dtype'>int32</div><div class='xr-var-preview xr-preview'>16051249 16052080 ... 51237712</div><input id='attrs-544548a4-b5a6-433a-a776-f4ae2420a3c7' class='xr-var-attrs-in' type='checkbox' disabled><label for='attrs-544548a4-b5a6-433a-a776-f4ae2420a3c7' title='Show/Hide attributes'><svg class='icon xr-icon-file-text2'><use xlink:href='#icon-file-text2'></use></svg></label><input id='data-9e3d3b87-8733-4f38-b897-b12a7a1d97b7' class='xr-var-data-in' type='checkbox'><label for='data-9e3d3b87-8733-4f38-b897-b12a7a1d97b7' title='Show/Hide data repr'><svg class='icon xr-icon-database'><use xlink:href='#icon-database'></use></svg></label><div class='xr-var-attrs'><dl class='xr-attrs'></dl></div><div class='xr-var-data'><pre>array([16051249, 16052080, 16052962, ..., 51235979, 51237063, 51237712],\n",
              "      dtype=int32)</pre></div></li><li class='xr-var-item'><div class='xr-var-name'><span>a0</span></div><div class='xr-var-dims'>(variant)</div><div class='xr-var-dtype'>object</div><div class='xr-var-preview xr-preview'>&#x27;C&#x27; &#x27;A&#x27; &#x27;T&#x27; &#x27;A&#x27; ... &#x27;C&#x27; &#x27;A&#x27; &#x27;C&#x27; &#x27;A&#x27;</div><input id='attrs-55ea2c80-69ee-4f83-a232-d9ac0813ba4c' class='xr-var-attrs-in' type='checkbox' disabled><label for='attrs-55ea2c80-69ee-4f83-a232-d9ac0813ba4c' title='Show/Hide attributes'><svg class='icon xr-icon-file-text2'><use xlink:href='#icon-file-text2'></use></svg></label><input id='data-7981bd90-e210-4bd5-ae0f-8e054f154905' class='xr-var-data-in' type='checkbox'><label for='data-7981bd90-e210-4bd5-ae0f-8e054f154905' title='Show/Hide data repr'><svg class='icon xr-icon-database'><use xlink:href='#icon-database'></use></svg></label><div class='xr-var-attrs'><dl class='xr-attrs'></dl></div><div class='xr-var-data'><pre>array([&#x27;C&#x27;, &#x27;A&#x27;, &#x27;T&#x27;, ..., &#x27;A&#x27;, &#x27;C&#x27;, &#x27;A&#x27;], dtype=object)</pre></div></li><li class='xr-var-item'><div class='xr-var-name'><span>a1</span></div><div class='xr-var-dims'>(variant)</div><div class='xr-var-dtype'>object</div><div class='xr-var-preview xr-preview'>&#x27;T&#x27; &#x27;G&#x27; &#x27;C&#x27; &#x27;C&#x27; ... &#x27;T&#x27; &#x27;G&#x27; &#x27;T&#x27; &#x27;G&#x27;</div><input id='attrs-f8f4c154-a2a0-448d-a7e4-be5ec074799b' class='xr-var-attrs-in' type='checkbox' disabled><label for='attrs-f8f4c154-a2a0-448d-a7e4-be5ec074799b' title='Show/Hide attributes'><svg class='icon xr-icon-file-text2'><use xlink:href='#icon-file-text2'></use></svg></label><input id='data-fad39cd0-1528-4b2b-893b-fbe4d0cee796' class='xr-var-data-in' type='checkbox'><label for='data-fad39cd0-1528-4b2b-893b-fbe4d0cee796' title='Show/Hide data repr'><svg class='icon xr-icon-database'><use xlink:href='#icon-database'></use></svg></label><div class='xr-var-attrs'><dl class='xr-attrs'></dl></div><div class='xr-var-data'><pre>array([&#x27;T&#x27;, &#x27;G&#x27;, &#x27;C&#x27;, ..., &#x27;G&#x27;, &#x27;T&#x27;, &#x27;G&#x27;], dtype=object)</pre></div></li></ul></div></li><li class='xr-section-item'><input id='section-95765ba4-1377-46cb-b1d0-8717601ce113' class='xr-section-summary-in' type='checkbox' disabled ><label for='section-95765ba4-1377-46cb-b1d0-8717601ce113' class='xr-section-summary'  title='Expand/collapse section'>Attributes: <span>(0)</span></label><div class='xr-section-inline-details'></div><div class='xr-section-details'><dl class='xr-attrs'></dl></div></li></ul></div></div>"
            ],
            "text/plain": [
              "<xarray.DataArray 'genotype' (sample: 503, variant: 83678)>\n",
              "dask.array<transpose, shape=(503, 83678), dtype=float32, chunksize=(503, 1024), chunktype=numpy.ndarray>\n",
              "Coordinates: (12/14)\n",
              "  * sample   (sample) object 'HG00096' 'HG00097' ... 'NA20828' 'NA20832'\n",
              "  * variant  (variant) <U12 'variant0' 'variant1' ... 'variant83677'\n",
              "    fid      (sample) object '0' '0' '0' '0' '0' '0' ... '0' '0' '0' '0' '0' '0'\n",
              "    iid      (sample) object 'HG00096' 'HG00097' ... 'NA20828' 'NA20832'\n",
              "    father   (sample) object '0' '0' '0' '0' '0' '0' ... '0' '0' '0' '0' '0' '0'\n",
              "    mother   (sample) object '0' '0' '0' '0' '0' '0' ... '0' '0' '0' '0' '0' '0'\n",
              "    ...       ...\n",
              "    chrom    (variant) object '22' '22' '22' '22' '22' ... '22' '22' '22' '22'\n",
              "    snp      (variant) object 'rs62224609' 'rs4965031' ... 'rs370652263'\n",
              "    cm       (variant) float64 0.0 0.0 0.0 0.0 0.0 0.0 ... 0.0 0.0 0.0 0.0 0.0\n",
              "    pos      (variant) int32 16051249 16052080 16052962 ... 51237063 51237712\n",
              "    a0       (variant) object 'C' 'A' 'T' 'A' 'T' 'C' ... 'C' 'C' 'A' 'C' 'A'\n",
              "    a1       (variant) object 'T' 'G' 'C' 'C' 'A' 'A' ... 'T' 'T' 'G' 'T' 'G'"
            ]
          },
          "metadata": {},
          "execution_count": 8
        }
      ]
    },
    {
      "cell_type": "code",
      "metadata": {
        "id": "dlh64eb04QZU"
      },
      "source": [
        "id=G.iid.values"
      ],
      "execution_count": 9,
      "outputs": []
    },
    {
      "cell_type": "code",
      "metadata": {
        "colab": {
          "base_uri": "https://localhost:8080/"
        },
        "id": "YdcKOjYmadUg",
        "outputId": "ec1e46b7-8bb4-4b84-c07f-cb6cb393daf6"
      },
      "source": [
        "id"
      ],
      "execution_count": 10,
      "outputs": [
        {
          "output_type": "execute_result",
          "data": {
            "text/plain": [
              "array(['HG00096', 'HG00097', 'HG00099', 'HG00100', 'HG00101', 'HG00102',\n",
              "       'HG00103', 'HG00105', 'HG00106', 'HG00107', 'HG00108', 'HG00109',\n",
              "       'HG00110', 'HG00111', 'HG00112', 'HG00113', 'HG00114', 'HG00115',\n",
              "       'HG00116', 'HG00117', 'HG00118', 'HG00119', 'HG00120', 'HG00121',\n",
              "       'HG00122', 'HG00123', 'HG00125', 'HG00126', 'HG00127', 'HG00128',\n",
              "       'HG00129', 'HG00130', 'HG00131', 'HG00132', 'HG00133', 'HG00136',\n",
              "       'HG00137', 'HG00138', 'HG00139', 'HG00140', 'HG00141', 'HG00142',\n",
              "       'HG00143', 'HG00145', 'HG00146', 'HG00148', 'HG00149', 'HG00150',\n",
              "       'HG00151', 'HG00154', 'HG00155', 'HG00157', 'HG00158', 'HG00159',\n",
              "       'HG00160', 'HG00171', 'HG00173', 'HG00174', 'HG00176', 'HG00177',\n",
              "       'HG00178', 'HG00179', 'HG00180', 'HG00181', 'HG00182', 'HG00183',\n",
              "       'HG00185', 'HG00186', 'HG00187', 'HG00188', 'HG00189', 'HG00190',\n",
              "       'HG00231', 'HG00232', 'HG00233', 'HG00234', 'HG00235', 'HG00236',\n",
              "       'HG00237', 'HG00238', 'HG00239', 'HG00240', 'HG00242', 'HG00243',\n",
              "       'HG00244', 'HG00245', 'HG00246', 'HG00250', 'HG00251', 'HG00252',\n",
              "       'HG00253', 'HG00254', 'HG00255', 'HG00256', 'HG00257', 'HG00258',\n",
              "       'HG00259', 'HG00260', 'HG00261', 'HG00262', 'HG00263', 'HG00264',\n",
              "       'HG00265', 'HG00266', 'HG00267', 'HG00268', 'HG00269', 'HG00271',\n",
              "       'HG00272', 'HG00273', 'HG00274', 'HG00275', 'HG00276', 'HG00277',\n",
              "       'HG00278', 'HG00280', 'HG00281', 'HG00282', 'HG00284', 'HG00285',\n",
              "       'HG00288', 'HG00290', 'HG00304', 'HG00306', 'HG00308', 'HG00309',\n",
              "       'HG00310', 'HG00311', 'HG00313', 'HG00315', 'HG00318', 'HG00319',\n",
              "       'HG00320', 'HG00321', 'HG00323', 'HG00324', 'HG00325', 'HG00326',\n",
              "       'HG00327', 'HG00328', 'HG00329', 'HG00330', 'HG00331', 'HG00332',\n",
              "       'HG00334', 'HG00335', 'HG00336', 'HG00337', 'HG00338', 'HG00339',\n",
              "       'HG00341', 'HG00342', 'HG00343', 'HG00344', 'HG00345', 'HG00346',\n",
              "       'HG00349', 'HG00350', 'HG00351', 'HG00353', 'HG00355', 'HG00356',\n",
              "       'HG00357', 'HG00358', 'HG00360', 'HG00361', 'HG00362', 'HG00364',\n",
              "       'HG00365', 'HG00366', 'HG00367', 'HG00368', 'HG00369', 'HG00371',\n",
              "       'HG00372', 'HG00373', 'HG00375', 'HG00376', 'HG00378', 'HG00379',\n",
              "       'HG00380', 'HG00381', 'HG00382', 'HG00383', 'HG00384', 'HG01334',\n",
              "       'HG01500', 'HG01501', 'HG01503', 'HG01504', 'HG01506', 'HG01507',\n",
              "       'HG01509', 'HG01510', 'HG01512', 'HG01513', 'HG01515', 'HG01516',\n",
              "       'HG01518', 'HG01519', 'HG01521', 'HG01522', 'HG01524', 'HG01525',\n",
              "       'HG01527', 'HG01528', 'HG01530', 'HG01531', 'HG01536', 'HG01537',\n",
              "       'HG01602', 'HG01603', 'HG01605', 'HG01606', 'HG01607', 'HG01608',\n",
              "       'HG01610', 'HG01612', 'HG01613', 'HG01615', 'HG01617', 'HG01618',\n",
              "       'HG01619', 'HG01620', 'HG01623', 'HG01624', 'HG01625', 'HG01626',\n",
              "       'HG01628', 'HG01630', 'HG01631', 'HG01632', 'HG01668', 'HG01669',\n",
              "       'HG01670', 'HG01672', 'HG01673', 'HG01675', 'HG01676', 'HG01678',\n",
              "       'HG01679', 'HG01680', 'HG01682', 'HG01684', 'HG01685', 'HG01686',\n",
              "       'HG01694', 'HG01695', 'HG01697', 'HG01699', 'HG01700', 'HG01702',\n",
              "       'HG01704', 'HG01705', 'HG01707', 'HG01708', 'HG01709', 'HG01710',\n",
              "       'HG01746', 'HG01747', 'HG01756', 'HG01757', 'HG01761', 'HG01762',\n",
              "       'HG01765', 'HG01766', 'HG01767', 'HG01768', 'HG01770', 'HG01771',\n",
              "       'HG01773', 'HG01775', 'HG01776', 'HG01777', 'HG01779', 'HG01781',\n",
              "       'HG01783', 'HG01784', 'HG01785', 'HG01786', 'HG01789', 'HG01790',\n",
              "       'HG01791', 'HG02215', 'HG02219', 'HG02220', 'HG02221', 'HG02223',\n",
              "       'HG02224', 'HG02230', 'HG02231', 'HG02232', 'HG02233', 'HG02235',\n",
              "       'HG02236', 'HG02238', 'HG02239', 'NA06984', 'NA06985', 'NA06986',\n",
              "       'NA06989', 'NA06994', 'NA07000', 'NA07037', 'NA07048', 'NA07051',\n",
              "       'NA07056', 'NA07347', 'NA07357', 'NA10847', 'NA10851', 'NA11829',\n",
              "       'NA11830', 'NA11831', 'NA11832', 'NA11840', 'NA11843', 'NA11881',\n",
              "       'NA11892', 'NA11893', 'NA11894', 'NA11918', 'NA11919', 'NA11920',\n",
              "       'NA11930', 'NA11931', 'NA11932', 'NA11933', 'NA11992', 'NA11994',\n",
              "       'NA11995', 'NA12003', 'NA12004', 'NA12005', 'NA12006', 'NA12043',\n",
              "       'NA12044', 'NA12045', 'NA12046', 'NA12058', 'NA12144', 'NA12154',\n",
              "       'NA12155', 'NA12156', 'NA12234', 'NA12249', 'NA12272', 'NA12273',\n",
              "       'NA12275', 'NA12282', 'NA12283', 'NA12286', 'NA12287', 'NA12340',\n",
              "       'NA12341', 'NA12342', 'NA12347', 'NA12348', 'NA12383', 'NA12399',\n",
              "       'NA12400', 'NA12413', 'NA12414', 'NA12489', 'NA12546', 'NA12716',\n",
              "       'NA12717', 'NA12718', 'NA12748', 'NA12749', 'NA12750', 'NA12751',\n",
              "       'NA12760', 'NA12761', 'NA12762', 'NA12763', 'NA12775', 'NA12776',\n",
              "       'NA12777', 'NA12778', 'NA12812', 'NA12813', 'NA12814', 'NA12815',\n",
              "       'NA12827', 'NA12828', 'NA12829', 'NA12830', 'NA12842', 'NA12843',\n",
              "       'NA12872', 'NA12873', 'NA12874', 'NA12878', 'NA12889', 'NA12890',\n",
              "       'NA20502', 'NA20503', 'NA20504', 'NA20505', 'NA20506', 'NA20507',\n",
              "       'NA20508', 'NA20509', 'NA20510', 'NA20511', 'NA20512', 'NA20513',\n",
              "       'NA20514', 'NA20515', 'NA20516', 'NA20517', 'NA20518', 'NA20519',\n",
              "       'NA20520', 'NA20521', 'NA20522', 'NA20524', 'NA20525', 'NA20527',\n",
              "       'NA20528', 'NA20529', 'NA20530', 'NA20531', 'NA20532', 'NA20533',\n",
              "       'NA20534', 'NA20535', 'NA20536', 'NA20538', 'NA20539', 'NA20540',\n",
              "       'NA20541', 'NA20542', 'NA20543', 'NA20544', 'NA20581', 'NA20582',\n",
              "       'NA20585', 'NA20586', 'NA20587', 'NA20588', 'NA20589', 'NA20752',\n",
              "       'NA20753', 'NA20754', 'NA20755', 'NA20756', 'NA20757', 'NA20758',\n",
              "       'NA20759', 'NA20760', 'NA20761', 'NA20762', 'NA20763', 'NA20764',\n",
              "       'NA20765', 'NA20766', 'NA20767', 'NA20768', 'NA20769', 'NA20770',\n",
              "       'NA20771', 'NA20772', 'NA20773', 'NA20774', 'NA20775', 'NA20778',\n",
              "       'NA20783', 'NA20785', 'NA20786', 'NA20787', 'NA20790', 'NA20792',\n",
              "       'NA20795', 'NA20796', 'NA20797', 'NA20798', 'NA20799', 'NA20800',\n",
              "       'NA20801', 'NA20802', 'NA20803', 'NA20804', 'NA20805', 'NA20806',\n",
              "       'NA20807', 'NA20808', 'NA20809', 'NA20810', 'NA20811', 'NA20812',\n",
              "       'NA20813', 'NA20814', 'NA20815', 'NA20818', 'NA20819', 'NA20821',\n",
              "       'NA20822', 'NA20826', 'NA20827', 'NA20828', 'NA20832'],\n",
              "      dtype=object)"
            ]
          },
          "metadata": {},
          "execution_count": 10
        }
      ]
    },
    {
      "cell_type": "code",
      "metadata": {
        "id": "Hv8hyoPJ1HO7"
      },
      "source": [
        "snps=G.snp.variant.values"
      ],
      "execution_count": 11,
      "outputs": []
    },
    {
      "cell_type": "code",
      "metadata": {
        "colab": {
          "base_uri": "https://localhost:8080/",
          "height": 42
        },
        "id": "QUTd_aZOacpO",
        "outputId": "b04eb6fe-1019-473c-a173-055dd9816bec"
      },
      "source": [
        "snps[0]"
      ],
      "execution_count": 12,
      "outputs": [
        {
          "output_type": "execute_result",
          "data": {
            "application/vnd.google.colaboratory.intrinsic+json": {
              "type": "string"
            },
            "text/plain": [
              "'variant0'"
            ]
          },
          "metadata": {},
          "execution_count": 12
        }
      ]
    },
    {
      "cell_type": "code",
      "metadata": {
        "colab": {
          "base_uri": "https://localhost:8080/"
        },
        "id": "3LgdBA_bbBdF",
        "outputId": "421fd9de-4f42-42ae-9428-54171ca81c5c"
      },
      "source": [
        "G.snp.variant.values"
      ],
      "execution_count": 13,
      "outputs": [
        {
          "output_type": "execute_result",
          "data": {
            "text/plain": [
              "array(['variant0', 'variant1', 'variant2', ..., 'variant83675',\n",
              "       'variant83676', 'variant83677'], dtype='<U12')"
            ]
          },
          "metadata": {},
          "execution_count": 13
        }
      ]
    },
    {
      "cell_type": "code",
      "metadata": {
        "colab": {
          "base_uri": "https://localhost:8080/"
        },
        "id": "wO31RbAY1HRr",
        "outputId": "642a0df5-fd5d-4599-c4b9-e182dc736acd"
      },
      "source": [
        "geno_arr=[]\n",
        "for idd in tqdm(id):\n",
        "    geno_arr.append(G.sel(sample = idd,variant = snps).values)\n",
        " "
      ],
      "execution_count": null,
      "outputs": [
        {
          "output_type": "stream",
          "name": "stderr",
          "text": [
            "100%|██████████| 503/503 [01:55<00:00,  4.35it/s]\n"
          ]
        }
      ]
    },
    {
      "cell_type": "code",
      "metadata": {
        "id": "SZC60n8Q1HVD"
      },
      "source": [
        "geno_ar=np.array(geno_arr)"
      ],
      "execution_count": null,
      "outputs": []
    },
    {
      "cell_type": "code",
      "metadata": {
        "colab": {
          "base_uri": "https://localhost:8080/"
        },
        "id": "QQp0dijmIn4i",
        "outputId": "9ffa91fe-12bd-43be-ff65-8f684633c827"
      },
      "source": [
        "geno_ar.shape\n",
        "# consists of 503 individuals and 83678 SNPs"
      ],
      "execution_count": null,
      "outputs": [
        {
          "output_type": "execute_result",
          "data": {
            "text/plain": [
              "(503, 83678)"
            ]
          },
          "metadata": {},
          "execution_count": 16
        }
      ]
    },
    {
      "cell_type": "code",
      "metadata": {
        "colab": {
          "base_uri": "https://localhost:8080/"
        },
        "id": "7BlJ4lYbmONc",
        "outputId": "cbdcf06c-6e6a-4331-f042-b0b4e3b31763"
      },
      "source": [
        "print(geno_ar)"
      ],
      "execution_count": null,
      "outputs": [
        {
          "output_type": "stream",
          "name": "stdout",
          "text": [
            "[[2. 1. 2. ... 2. 1. 2.]\n",
            " [1. 2. 1. ... 2. 1. 2.]\n",
            " [1. 2. 1. ... 1. 2. 2.]\n",
            " ...\n",
            " [2. 2. 2. ... 1. 1. 2.]\n",
            " [2. 2. 2. ... 2. 2. 2.]\n",
            " [2. 1. 2. ... 2. 1. 1.]]\n"
          ]
        }
      ]
    },
    {
      "cell_type": "markdown",
      "metadata": {
        "id": "YM_YE-wDPuGo"
      },
      "source": [
        "# **Mount the Google Drive and save the generated genotype array**"
      ]
    },
    {
      "cell_type": "code",
      "metadata": {
        "id": "670YF748dmyJ"
      },
      "source": [
        "with open('/content/gdrive/MyDrive/genopheno/geno_arr.npy', 'wb') as f:\n",
        "    np.save(f, geno_ar)"
      ],
      "execution_count": null,
      "outputs": []
    },
    {
      "cell_type": "code",
      "metadata": {
        "id": "NY17SHYmQmys"
      },
      "source": [
        "geno_ar=np.load('/content/gdrive/MyDrive/genopheno/geno_arr.npy')"
      ],
      "execution_count": 14,
      "outputs": []
    },
    {
      "cell_type": "markdown",
      "metadata": {
        "id": "h3B-UcvzQ_6i"
      },
      "source": [
        "# **Linkage Disequilibrium Pruning / Clumping**"
      ]
    },
    {
      "cell_type": "code",
      "metadata": {
        "id": "4BEM3LwWRHKv"
      },
      "source": [
        "def ld_prune(gn, size, step, threshold=.1, n_iter=1):\n",
        "    # idx = []\n",
        "    for i in range(n_iter):\n",
        "        loc_unlinked = allel.locate_unlinked(gn, size=size, step=step, threshold=threshold)\n",
        "        # idx = np.where(loc_unlinked)[0]\n",
        "        n = np.count_nonzero(loc_unlinked)\n",
        "        n_remove = gn.shape[0] - n\n",
        "        print('iteration', i+1, 'retaining', n, 'removing', n_remove, 'variants')\n",
        "        gn = gn.compress(loc_unlinked, axis=0)\n",
        "    return np.transpose(gn)"
      ],
      "execution_count": 15,
      "outputs": []
    },
    {
      "cell_type": "code",
      "metadata": {
        "colab": {
          "base_uri": "https://localhost:8080/"
        },
        "id": "NF1v1w23RMjf",
        "outputId": "8228a6c7-6c01-4d71-a984-80b30f5b8d4a"
      },
      "source": [
        "geno_ar_pruned = ld_prune(np.transpose(geno_ar),size=5,step = 1,threshold=.1, n_iter=3)\n",
        "geno_ar_pruned.shape"
      ],
      "execution_count": 16,
      "outputs": [
        {
          "output_type": "stream",
          "name": "stdout",
          "text": [
            "iteration 1 retaining 28610 removing 55068 variants\n",
            "iteration 2 retaining 14294 removing 14316 variants\n",
            "iteration 3 retaining 8995 removing 5299 variants\n"
          ]
        },
        {
          "output_type": "execute_result",
          "data": {
            "text/plain": [
              "(503, 8995)"
            ]
          },
          "metadata": {},
          "execution_count": 16
        }
      ]
    },
    {
      "cell_type": "code",
      "metadata": {
        "id": "JTB_rMKNfNlp"
      },
      "source": [
        "def plot_ld(gn, title):\n",
        "    m = allel.rogers_huff_r(gn) ** 2\n",
        "    ax = allel.plot_pairwise_ld(m)\n",
        "    ax.set_title(title)"
      ],
      "execution_count": null,
      "outputs": []
    },
    {
      "cell_type": "code",
      "metadata": {
        "id": "k_xwlBgHfQLG"
      },
      "source": [
        "plot_ld(np.transpose(geno_ar)[:1000], 'Figure 1. Pairwise LD.') # before pruning\n",
        "plot_ld(np.transpose(geno_ar_pruned)[:1000], 'Figure 1. Pairwise LD.') # after pruning"
      ],
      "execution_count": null,
      "outputs": []
    },
    {
      "cell_type": "markdown",
      "metadata": {
        "id": "SA6koss4SA_o"
      },
      "source": [
        "# **Applying Logistic Regression for Classification of case / control from the genpotype data and simulated phenotype data for hsq values of 0.2, 0.4 and 0.8 applying One Percent Causal and Infinite Causal Models** "
      ]
    },
    {
      "cell_type": "code",
      "metadata": {
        "colab": {
          "base_uri": "https://localhost:8080/",
          "height": 1000
        },
        "id": "uF6Fhd-6RQtJ",
        "outputId": "c8c4507d-dd6d-47c8-c27f-ed668e7dd74f"
      },
      "source": [
        "hsq=[2,4,8]\n",
        "LR_test_score=[]\n",
        "LR_train_score=[]\n",
        "cross_val_scores = []\n",
        "for hs in hsq: \n",
        "  data = pd.read_csv('/content/gdrive/MyDrive/genopheno/Phenotypes/OnePercCaseCont/Sim.OnePercCausal.0.'+str(hs)+'.hsq.0.5.prev.CaseControl.1.phen', delimiter=' ', header=None, index_col=None )\n",
        "  data=data.drop(columns=[0, 1,3])\n",
        "\n",
        "  y=data[2].values\n",
        "  rem=np.where(y==-9)\n",
        "\n",
        "  X=np.delete(geno_ar_pruned, rem[0],axis=0)\n",
        "  y=np.delete(y, rem[0],axis=0)\n",
        "  X_train, X_test, y_train, y_test = train_test_split(StandardScaler().fit_transform(X), y, test_size=0.04, random_state=42)\n",
        "\n",
        "  reg = LogisticRegression(max_iter=100000).fit(X_train, y_train)\n",
        "  cv = RepeatedKFold(n_splits=10, n_repeats=3, random_state=1)\n",
        "  scores = cross_val_score(reg, X, y, scoring='accuracy', cv=cv, n_jobs=-1)\n",
        "  cross_val_scores.append(scores)\n",
        "  print('Accuracy: %.3f (%.3f)' % (mean(scores), std(scores)))\n",
        "  LR_train_score.append(reg.score(X_train, y_train))\n",
        "  LR_test_score.append(reg.score(X_test, y_test))\n",
        "  metrics.plot_roc_curve(reg, X_test, y_test) \n",
        "plt.show()"
      ],
      "execution_count": 22,
      "outputs": [
        {
          "output_type": "stream",
          "name": "stdout",
          "text": [
            "Accuracy: 0.553 (0.061)\n"
          ]
        },
        {
          "output_type": "stream",
          "name": "stderr",
          "text": [
            "/usr/local/lib/python3.7/dist-packages/sklearn/utils/deprecation.py:87: FutureWarning: Function plot_roc_curve is deprecated; Function `plot_roc_curve` is deprecated in 1.0 and will be removed in 1.2. Use one of the class methods: RocCurveDisplay.from_predictions or RocCurveDisplay.from_estimator.\n",
            "  warnings.warn(msg, category=FutureWarning)\n"
          ]
        },
        {
          "output_type": "stream",
          "name": "stdout",
          "text": [
            "Accuracy: 0.541 (0.058)\n"
          ]
        },
        {
          "output_type": "stream",
          "name": "stderr",
          "text": [
            "/usr/local/lib/python3.7/dist-packages/sklearn/utils/deprecation.py:87: FutureWarning: Function plot_roc_curve is deprecated; Function `plot_roc_curve` is deprecated in 1.0 and will be removed in 1.2. Use one of the class methods: RocCurveDisplay.from_predictions or RocCurveDisplay.from_estimator.\n",
            "  warnings.warn(msg, category=FutureWarning)\n"
          ]
        },
        {
          "output_type": "stream",
          "name": "stdout",
          "text": [
            "Accuracy: 0.598 (0.063)\n"
          ]
        },
        {
          "output_type": "stream",
          "name": "stderr",
          "text": [
            "/usr/local/lib/python3.7/dist-packages/sklearn/utils/deprecation.py:87: FutureWarning: Function plot_roc_curve is deprecated; Function `plot_roc_curve` is deprecated in 1.0 and will be removed in 1.2. Use one of the class methods: RocCurveDisplay.from_predictions or RocCurveDisplay.from_estimator.\n",
            "  warnings.warn(msg, category=FutureWarning)\n"
          ]
        },
        {
          "output_type": "display_data",
          "data": {
            "image/png": "[encoded data removed]",
            "text/plain": [
              "<Figure size 432x288 with 1 Axes>"
            ]
          },
          "metadata": {
            "needs_background": "light"
          }
        },
        {
          "output_type": "display_data",
          "data": {
            "image/png": "[encoded data removed]",
            "text/plain": [
              "<Figure size 432x288 with 1 Axes>"
            ]
          },
          "metadata": {
            "needs_background": "light"
          }
        },
        {
          "output_type": "display_data",
          "data": {
            "image/png": "[encoded data removed]",
            "text/plain": [
              "<Figure size 432x288 with 1 Axes>"
            ]
          },
          "metadata": {
            "needs_background": "light"
          }
        }
      ]
    },
    {
      "cell_type": "code",
      "metadata": {
        "colab": {
          "base_uri": "https://localhost:8080/"
        },
        "id": "MlUgfKSJSqu_",
        "outputId": "09a92a7d-2375-4720-c10b-b559885733d2"
      },
      "source": [
        "LR_test_score, cross_val_scores"
      ],
      "execution_count": 24,
      "outputs": [
        {
          "output_type": "execute_result",
          "data": {
            "text/plain": [
              "([0.5714285714285714, 0.5714285714285714, 0.5238095238095238],\n",
              " [array([0.52941176, 0.49019608, 0.44      , 0.56      , 0.6       ,\n",
              "         0.56      , 0.62      , 0.58      , 0.6       , 0.52      ,\n",
              "         0.52941176, 0.56862745, 0.66      , 0.5       , 0.48      ,\n",
              "         0.42      , 0.54      , 0.48      , 0.64      , 0.6       ,\n",
              "         0.50980392, 0.56862745, 0.52      , 0.58      , 0.5       ,\n",
              "         0.58      , 0.58      , 0.62      , 0.54      , 0.68      ]),\n",
              "  array([0.58823529, 0.47058824, 0.6       , 0.5       , 0.56      ,\n",
              "         0.54      , 0.66      , 0.58      , 0.56      , 0.56      ,\n",
              "         0.52941176, 0.60784314, 0.58      , 0.48      , 0.54      ,\n",
              "         0.46      , 0.54      , 0.58      , 0.52      , 0.46      ,\n",
              "         0.47058824, 0.47058824, 0.48      , 0.52      , 0.64      ,\n",
              "         0.62      , 0.6       , 0.46      , 0.58      , 0.46      ]),\n",
              "  array([0.54901961, 0.64705882, 0.5       , 0.72      , 0.6       ,\n",
              "         0.54      , 0.64      , 0.6       , 0.58      , 0.66      ,\n",
              "         0.52941176, 0.50980392, 0.72      , 0.64      , 0.6       ,\n",
              "         0.62      , 0.54      , 0.58      , 0.6       , 0.6       ,\n",
              "         0.66666667, 0.52941176, 0.68      , 0.52      , 0.68      ,\n",
              "         0.56      , 0.62      , 0.64      , 0.48      , 0.6       ])])"
            ]
          },
          "metadata": {},
          "execution_count": 24
        }
      ]
    },
    {
      "cell_type": "markdown",
      "metadata": {
        "id": "cNOg8LPPS7iQ"
      },
      "source": [
        "# **Applying Random Forest  for Classification of case / control from the genpotype data and simulated phenotype data for hsq values of 0.2, 0.4 and 0.8 applying One Percent Causal and Infinite Causal Models** "
      ]
    },
    {
      "cell_type": "markdown",
      "metadata": {
        "id": "Fbl_lLJ6Tm-D"
      },
      "source": [
        "# Applying Randomized Search CV to prepare the exploration grid space"
      ]
    },
    {
      "cell_type": "code",
      "metadata": {
        "colab": {
          "base_uri": "https://localhost:8080/"
        },
        "id": "LNLwkzhtTlxh",
        "outputId": "3ddfc394-67d1-4cb4-c2f6-9e5cb92c050b"
      },
      "source": [
        "from sklearn.model_selection import RandomizedSearchCV\n",
        "# Number of trees in random forest\n",
        "n_estimators = [int(x) for x in np.linspace(start = 200, stop = 2000, num = 10)]\n",
        "# Number of features to consider at every split\n",
        "max_features = ['auto', 'sqrt']\n",
        "# Maximum number of levels in tree\n",
        "max_depth = [int(x) for x in np.linspace(10, 110, num = 11)]\n",
        "max_depth.append(None)\n",
        "# Minimum number of samples required to split a node\n",
        "min_samples_split = [2, 5, 10]\n",
        "# Minimum number of samples required at each leaf node\n",
        "min_samples_leaf = [1, 2, 4]\n",
        "# Method of selecting samples for training each tree\n",
        "bootstrap = [True, False]\n",
        "# Create the random grid\n",
        "random_grid = {'n_estimators': n_estimators,\n",
        "               'max_features': max_features,\n",
        "               'max_depth': max_depth,\n",
        "               'min_samples_split': min_samples_split,\n",
        "               'min_samples_leaf': min_samples_leaf,\n",
        "               'bootstrap': bootstrap}\n",
        "print(random_grid)\n",
        "{'bootstrap': [True, False],\n",
        " 'max_depth': [10, 20, 30, 40, 50, 60, 70, 80, 90, 100, None],\n",
        " 'max_features': ['auto', 'sqrt'],\n",
        " 'min_samples_leaf': [1, 2, 4],\n",
        " 'min_samples_split': [2, 5, 10],\n",
        " 'n_estimators': [200, 400, 600, 800, 1000, 1200, 1400, 1600, 1800, 2000]}"
      ],
      "execution_count": 25,
      "outputs": [
        {
          "output_type": "stream",
          "name": "stdout",
          "text": [
            "{'n_estimators': [200, 400, 600, 800, 1000, 1200, 1400, 1600, 1800, 2000], 'max_features': ['auto', 'sqrt'], 'max_depth': [10, 20, 30, 40, 50, 60, 70, 80, 90, 100, 110, None], 'min_samples_split': [2, 5, 10], 'min_samples_leaf': [1, 2, 4], 'bootstrap': [True, False]}\n"
          ]
        },
        {
          "output_type": "execute_result",
          "data": {
            "text/plain": [
              "{'bootstrap': [True, False],\n",
              " 'max_depth': [10, 20, 30, 40, 50, 60, 70, 80, 90, 100, None],\n",
              " 'max_features': ['auto', 'sqrt'],\n",
              " 'min_samples_leaf': [1, 2, 4],\n",
              " 'min_samples_split': [2, 5, 10],\n",
              " 'n_estimators': [200, 400, 600, 800, 1000, 1200, 1400, 1600, 1800, 2000]}"
            ]
          },
          "metadata": {},
          "execution_count": 25
        }
      ]
    },
    {
      "cell_type": "markdown",
      "metadata": {
        "id": "oktRMSM7VB8E"
      },
      "source": [
        "# **Random Search Tuning**"
      ]
    },
    {
      "cell_type": "code",
      "metadata": {
        "id": "u5bMJGizVBLB"
      },
      "source": [
        "# Use the random grid to search for best hyperparameters\n",
        "# First create the base model to tune\n",
        "rf = RandomForestRegressor()\n",
        "# Random search of parameters, using 3 fold cross validation, \n",
        "# search across 100 different combinations, and use all available cores\n",
        "rf_random = RandomizedSearchCV(estimator = rf, param_distributions = random_grid, n_iter = 100, cv = 3, verbose=2, random_state=42, n_jobs = -1)\n",
        "# Fit the random search model\n",
        "rf_random.fit(X_train, y_train)"
      ],
      "execution_count": null,
      "outputs": []
    },
    {
      "cell_type": "code",
      "metadata": {
        "id": "C_z56zWUSzQ8"
      },
      "source": [
        "hsq=[2,4,8]\n",
        "RF_test_score=[]\n",
        "RF_train_score=[]\n",
        "\n",
        "for hs in hsq: \n",
        "  data = pd.read_csv('/content/gdrive/MyDrive/genopheno/Phenotypes/OnePercCaseCont/Sim.OnePercCausal.0.'+str(hs)+'.hsq.0.5.prev.CaseControl.1.phen', delimiter=' ', header=None, index_col=None )\n",
        "  data=data.drop(columns=[0, 1,3])\n",
        "\n",
        "  y=data[2].values\n",
        "  rem=np.where(y==-9)\n",
        "\n",
        "  X=np.delete(geno_ar_pruned, rem[0],axis=0)\n",
        "  y=np.delete(y, rem[0],axis=0)\n",
        "  X_train, X_test, y_train, y_test = train_test_split(X, y, test_size=0.05, random_state=42)\n",
        "\n",
        "  clf = RandomForestClassifier(n_estimators=2000,random_state=2)\n",
        "  clf.fit(X_train, y_train)\n",
        "  RF_train_score.append(clf.score(X_train, y_train))\n",
        "  RF_test_score.append(clf.score(X_test, y_test))\n",
        "  metrics.plot_roc_curve(clf, X_test, y_test)\n",
        "\n",
        "plt.show()"
      ],
      "execution_count": null,
      "outputs": []
    },
    {
      "cell_type": "code",
      "metadata": {
        "id": "qOIXXAPffyGE"
      },
      "source": [
        "RF_test_scores\n"
      ],
      "execution_count": null,
      "outputs": []
    },
    {
      "cell_type": "markdown",
      "metadata": {
        "id": "W7GUkgomfXv2"
      },
      "source": [
        "# **XGBoost**"
      ]
    },
    {
      "cell_type": "code",
      "metadata": {
        "id": "d5JA7hC8grke"
      },
      "source": [
        "from xgboost import cv\n",
        "import xgboost as xgb\n",
        "\n",
        "params = {'colsample_bytree': 0.3,'learning_rate': 0.1,\n",
        "                'max_depth': 5, 'alpha': 10}\n",
        "\n"
      ],
      "execution_count": 36,
      "outputs": []
    },
    {
      "cell_type": "code",
      "metadata": {
        "colab": {
          "base_uri": "https://localhost:8080/",
          "height": 956
        },
        "id": "c_OT2-BbffHV",
        "outputId": "9a13b29f-e8f6-4d9e-896d-cc68d2ee1c02"
      },
      "source": [
        "hsq=[2,4,8]\n",
        "XG_test_score=[]\n",
        "XG_train_score=[]\n",
        "\n",
        "for hs in hsq: \n",
        "  data = pd.read_csv('/content/gdrive/MyDrive/genopheno/Phenotypes/OnePercCaseCont/Sim.OnePercCausal.0.'+str(hs)+'.hsq.0.5.prev.CaseControl.1.phen', delimiter=' ', header=None, index_col=None )\n",
        "  data=data.drop(columns=[0, 1,3])\n",
        "\n",
        "  y=data[2].values\n",
        "  rem=np.where(y==-9)\n",
        "\n",
        "  data_dmatrix = xgb.DMatrix(data=X_train,label=y) \n",
        "  X=np.delete(geno_ar, rem[0],axis=0)\n",
        "  y=np.delete(y, rem[0],axis=0)\n",
        "  X_train, X_test, y_train, y_test = train_test_split(X, y, test_size=0.05, random_state=1)\n",
        "  dtrain = [X_train, y_train]\n",
        "  xgb_cv = cv(dtrain = data_dmatrix, params=params, nfold=3,\n",
        "                    num_boost_round=50, early_stopping_rounds=10, as_pandas=True, seed=123)\n",
        "\n",
        "  clf = xgb.XGBClassifier()\n",
        "\n",
        "  clf.fit(X_train, y_train)\n",
        "\n",
        "  XG_train_score.append(clf.score(X_train, y_train))\n",
        "  XG_test_score.append(clf.score(X_test, y_test))\n",
        "  metrics.plot_roc_curve(clf, X_test, y_test)\n",
        "\n",
        "plt.show()"
      ],
      "execution_count": 39,
      "outputs": [
        {
          "output_type": "stream",
          "name": "stderr",
          "text": [
            "/usr/local/lib/python3.7/dist-packages/sklearn/utils/deprecation.py:87: FutureWarning: Function plot_roc_curve is deprecated; Function `plot_roc_curve` is deprecated in 1.0 and will be removed in 1.2. Use one of the class methods: RocCurveDisplay.from_predictions or RocCurveDisplay.from_estimator.\n",
            "  warnings.warn(msg, category=FutureWarning)\n",
            "/usr/local/lib/python3.7/dist-packages/sklearn/utils/deprecation.py:87: FutureWarning: Function plot_roc_curve is deprecated; Function `plot_roc_curve` is deprecated in 1.0 and will be removed in 1.2. Use one of the class methods: RocCurveDisplay.from_predictions or RocCurveDisplay.from_estimator.\n",
            "  warnings.warn(msg, category=FutureWarning)\n",
            "/usr/local/lib/python3.7/dist-packages/sklearn/utils/deprecation.py:87: FutureWarning: Function plot_roc_curve is deprecated; Function `plot_roc_curve` is deprecated in 1.0 and will be removed in 1.2. Use one of the class methods: RocCurveDisplay.from_predictions or RocCurveDisplay.from_estimator.\n",
            "  warnings.warn(msg, category=FutureWarning)\n"
          ]
        },
        {
          "output_type": "display_data",
          "data": {
            "image/png": "[encoded data removed]",
            "text/plain": [
              "<Figure size 432x288 with 1 Axes>"
            ]
          },
          "metadata": {
            "needs_background": "light"
          }
        },
        {
          "output_type": "display_data",
          "data": {
            "image/png": "[encoded data removed]",
            "text/plain": [
              "<Figure size 432x288 with 1 Axes>"
            ]
          },
          "metadata": {
            "needs_background": "light"
          }
        },
        {
          "output_type": "display_data",
          "data": {
            "image/png": "[encoded data removed]",
            "text/plain": [
              "<Figure size 432x288 with 1 Axes>"
            ]
          },
          "metadata": {
            "needs_background": "light"
          }
        }
      ]
    }
  ]
}